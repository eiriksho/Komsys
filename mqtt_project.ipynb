{
 "cells": [
  {
   "cell_type": "code",
   "execution_count": 9,
   "metadata": {},
   "outputs": [],
   "source": [
    "from stmpy import Machine, Driver\n",
    "\n",
    "import ipywidgets as widgets\n",
    "from IPython.display import display\n",
    "\n",
    "class Charger:\n",
    "    \n",
    "    def on_buttonConnect_press(self, b):\n",
    "        self.stm.send('car_connected') # <---- here we send a signal\n",
    "    \n",
    "    def on_buttonCharge_press(self, b):\n",
    "        self.stm.send('request_charging') # <---- here we send a signal\n",
    "    \n",
    "    def on_buttonDisconnect_press(self, b):\n",
    "        self.stm.send('car_disconnected') # <---- here we send a signal\n",
    "\n",
    "    def on_buttonChargingFinished_press(self, b):\n",
    "        self.stm.send('charging_finished') # <---- here we send a signal\n",
    "\n",
    "    def on_buttonChargingAborted_press(self, b):\n",
    "        self.stm.send('charging_aborted') # <---- here we send a signal\n",
    "\n",
    "    def on_init(self):\n",
    "        print(\"Charger created \\n\")\n",
    "        # load images and store them\n",
    "        self.buttonConnect = widgets.Button(description=\"Connect car\")\n",
    "        self.buttonConnect.on_click(self.on_buttonConnect_press)\n",
    "        \n",
    "        self.buttonCharge = widgets.Button(description=\"Charge\")\n",
    "        self.buttonCharge.on_click(self.on_buttonCharge_press)\n",
    "\n",
    "        self.buttonDisconnect = widgets.Button(description=\"Disconnect car\")\n",
    "        self.buttonDisconnect.on_click(self.on_buttonDisconnect_press)\n",
    "\n",
    "        self.buttonChargingFinished = widgets.Button(description=\"Finish charging\")\n",
    "        self.buttonChargingFinished.on_click(self.on_buttonChargingFinished_press)\n",
    "\n",
    "        self.buttonChargingAborted = widgets.Button(description=\"Abort charging\")\n",
    "        self.buttonChargingAborted.on_click(self.on_buttonChargingAborted_press)\n",
    "\n",
    "        display(self.buttonConnect, self.buttonCharge, self.buttonDisconnect, self.buttonChargingFinished, self.buttonChargingAborted)\n",
    "\n",
    "    def send_mqtt_connected(self):\n",
    "        print(\"Connected\")\n",
    "        self.mqtt_client.publish(\"from_charger\", \"Car is connected to charger\")\n",
    "    \n",
    "    def send_mqtt_disconnected(self):\n",
    "        print(\"Disconnected\")\n",
    "        self.mqtt_client.publish(\"from_charger\", \"Car is disconnected from charger\")\n",
    "\n",
    "    def send_mqtt_charging(self):\n",
    "        print(\"Charging\")\n",
    "        self.mqtt_client.publish(\"from_charger\", \"Car is charging\")\n",
    "    \n",
    "    def send_mqtt_finished(self):\n",
    "        print(\"Finished\")\n",
    "        self.mqtt_client.publish(\"from_charger\", \"Charging is finished\")\n",
    "    \n",
    "    def send_mqtt_aborted(self):\n",
    "        print(\"Aborted\")\n",
    "        self.mqtt_client.publish(\"from_charger\", \"Charging is aborted\")\n"
   ]
  },
  {
   "cell_type": "code",
   "execution_count": 10,
   "metadata": {},
   "outputs": [],
   "source": [
    "t0_initial = {'source': 'initial',\n",
    "      'target': 'idle',\n",
    "      'effect': 'on_init'}\n",
    "\n",
    "t1_car_connected = {'trigger': 'car_connected',\n",
    "        'source': 'idle',\n",
    "        'target': 'connected',\n",
    "        'effect': 'send_mqtt_connected'\n",
    "}\n",
    "\n",
    "t2_request_charging = {'trigger': 'request_charging',\n",
    "        'source': 'connected',\n",
    "        'target': 'charging',\n",
    "        'effect': 'send_mqtt_charging'\n",
    "}\n",
    "t3_car_disconnected = {'trigger': 'car_disconnected',\n",
    "        'source': 'connected',\n",
    "        'target': 'idle',\n",
    "        'effect': 'send_mqtt_disconnected'\n",
    "}\n",
    "t4_charging_finished = {'trigger': 'charging_finished',\n",
    "        'source': 'charging',\n",
    "        'target': 'connected',\n",
    "        'effect': 'send_mqtt_finished'\n",
    "}\n",
    "t5_charging_aborted = {'trigger': 'charging_aborted',\n",
    "        'source': 'charging',\n",
    "        'target': 'connected',\n",
    "        'effect': 'send_mqtt_aborted'\n",
    "}\n",
    "\n",
    "idle = {'name': 'idle'}\n",
    "\n",
    "connected = {'name': 'connected'}\n",
    "\n",
    "charging = {'name': 'charging'}\n"
   ]
  },
  {
   "cell_type": "code",
   "execution_count": 27,
   "metadata": {},
   "outputs": [],
   "source": [
    "from threading import Thread\n",
    "\n",
    "import paho.mqtt.client as mqtt\n",
    "\n",
    "broker, port = 'test.mosquitto.org', 1883\n",
    "\n",
    "class MQTT_CHARGER:\n",
    "    def __init__(self):\n",
    "        self.client = mqtt.Client(callback_api_version=mqtt.CallbackAPIVersion.VERSION1)\n",
    "        self.client.on_connect = self.on_connect\n",
    "        self.client.on_message = self.on_message\n",
    "\n",
    "    def on_connect(self, client, userdata, flags, rc):\n",
    "        print(\"on_connect(): {}\".format(mqtt.connack_string(rc)))\n",
    "        print(\"connection hard code debug print\")\n",
    "    \n",
    "    def on_message(self, client, userdata, message):\n",
    "        print(\"on_message(): topic: '{}', message: '{}'\".format(message.topic, message.payload.decode()))\n",
    "        if message.payload.decode() == \"Car is charging\":\n",
    "            print(\"Car is charging, bitch!\")\n",
    "        elif message.payload.decode() == \"Car is connected to charger\":\n",
    "            print(\"Charger message recieved\")\n",
    "        # elif more stuff\n",
    "\n",
    "    def start(self, broker, port):\n",
    "        \n",
    "        print(\"Connecting to broker:\", broker, \"port:\", port)\n",
    "        self.client.connect(broker, port)\n",
    "\n",
    "        self.client.subscribe('from_charger')\n",
    "        \n",
    "        try:\n",
    "            # line below should not have the () after the function!\n",
    "            thread = Thread(target=self.client.loop_forever)\n",
    "            thread.start()\n",
    "        except KeyboardInterrupt:\n",
    "            print(\"Interrupted\")\n",
    "            self.client.disconnect()"
   ]
  },
  {
   "cell_type": "code",
   "execution_count": 28,
   "metadata": {},
   "outputs": [
    {
     "name": "stdout",
     "output_type": "stream",
     "text": [
      "Charger created \n",
      "Connecting to broker: test.mosquitto.org port: 1883\n",
      "\n"
     ]
    },
    {
     "name": "stderr",
     "output_type": "stream",
     "text": [
      "C:\\Users\\Andre\\AppData\\Local\\Temp\\ipykernel_17756\\2827356388.py:9: DeprecationWarning: Callback API version 1 is deprecated, update to latest version\n",
      "  self.client = mqtt.Client(callback_api_version=mqtt.CallbackAPIVersion.VERSION1)\n"
     ]
    },
    {
     "data": {
      "application/vnd.jupyter.widget-view+json": {
       "model_id": "9a07bab8315a438ead7993c2ddef2686",
       "version_major": 2,
       "version_minor": 0
      },
      "text/plain": [
       "Button(description='Connect car', style=ButtonStyle())"
      ]
     },
     "metadata": {},
     "output_type": "display_data"
    },
    {
     "data": {
      "application/vnd.jupyter.widget-view+json": {
       "model_id": "4e75e5a30a494af59364a0c779aff011",
       "version_major": 2,
       "version_minor": 0
      },
      "text/plain": [
       "Button(description='Charge', style=ButtonStyle())"
      ]
     },
     "metadata": {},
     "output_type": "display_data"
    },
    {
     "data": {
      "application/vnd.jupyter.widget-view+json": {
       "model_id": "66fea6f0dfd341c28a640c18213fd7e5",
       "version_major": 2,
       "version_minor": 0
      },
      "text/plain": [
       "Button(description='Disconnect car', style=ButtonStyle())"
      ]
     },
     "metadata": {},
     "output_type": "display_data"
    },
    {
     "data": {
      "application/vnd.jupyter.widget-view+json": {
       "model_id": "cc464353f5d14e95a221578d47b8fe8a",
       "version_major": 2,
       "version_minor": 0
      },
      "text/plain": [
       "Button(description='Finish charging', style=ButtonStyle())"
      ]
     },
     "metadata": {},
     "output_type": "display_data"
    },
    {
     "data": {
      "application/vnd.jupyter.widget-view+json": {
       "model_id": "e7cd4c0b3bf74579bb5018cc807a697a",
       "version_major": 2,
       "version_minor": 0
      },
      "text/plain": [
       "Button(description='Abort charging', style=ButtonStyle())"
      ]
     },
     "metadata": {},
     "output_type": "display_data"
    },
    {
     "name": "stdout",
     "output_type": "stream",
     "text": [
      "on_connect(): Connection Accepted.\n",
      "connection hard code debug print\n",
      "Connected\n",
      "on_message(): topic: 'from_charger', message: 'Car is connected to charger'\n",
      "Disconnected\n",
      "on_message(): topic: 'from_charger', message: 'Car is disconnected from charger'\n",
      "Connected\n",
      "on_message(): topic: 'from_charger', message: 'Car is connected to charger'\n",
      "on_message(): topic: 'from_charger', message: 'Car is connected to charger'\n",
      "on_message(): topic: 'from_charger', message: 'Car is charging'\n",
      "Car is charging, bitch!\n",
      "on_message(): topic: 'from_charger', message: 'Charging is finished'\n",
      "on_message(): topic: 'from_charger', message: 'Car is charging'\n",
      "Car is charging, bitch!\n",
      "on_message(): topic: 'from_charger', message: 'Charging is finished'\n",
      "on_message(): topic: 'from_charger', message: 'Car is charging'\n",
      "Car is charging, bitch!\n",
      "on_message(): topic: 'from_charger', message: 'Charging is finished'\n",
      "on_message(): topic: 'from_charger', message: 'Car is charging'\n",
      "Car is charging, bitch!\n",
      "on_message(): topic: 'from_charger', message: 'Charging is finished'\n",
      "on_message(): topic: 'from_charger', message: 'Car is charging'\n",
      "Car is charging, bitch!\n",
      "on_message(): topic: 'from_charger', message: 'Charging is finished'\n",
      "on_message(): topic: 'from_charger', message: 'Car is disconnected from charger'\n",
      "on_connect(): Connection Accepted.\n",
      "connection hard code debug print\n"
     ]
    }
   ],
   "source": [
    "charger = Charger()\n",
    "machine = Machine(name='charger', transitions=[t0_initial, t1_car_connected, \n",
    "                                               t2_request_charging, t3_car_disconnected, \n",
    "                                               t4_charging_finished, t5_charging_aborted], \n",
    "                                               states = [idle, connected, charging], obj=charger)\n",
    "\n",
    "charger.stm = machine\n",
    "\n",
    "driver = Driver()\n",
    "driver.add_machine(machine)\n",
    "\n",
    "mqtt_charger = MQTT_CHARGER()\n",
    "charger.mqtt_client = mqtt_charger.client\n",
    "mqtt_charger.stm_driver = driver\n",
    "\n",
    "driver.start()\n",
    "mqtt_charger.start(broker, port)\n"
   ]
  }
 ],
 "metadata": {
  "kernelspec": {
   "display_name": "Python 3",
   "language": "python",
   "name": "python3"
  },
  "language_info": {
   "codemirror_mode": {
    "name": "ipython",
    "version": 3
   },
   "file_extension": ".py",
   "mimetype": "text/x-python",
   "name": "python",
   "nbconvert_exporter": "python",
   "pygments_lexer": "ipython3",
   "version": "3.9.7"
  }
 },
 "nbformat": 4,
 "nbformat_minor": 2
}
