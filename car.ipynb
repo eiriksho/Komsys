{
 "cells": [
  {
   "cell_type": "code",
   "execution_count": 1,
   "metadata": {},
   "outputs": [],
   "source": [
    "from stmpy import Machine, Driver\n",
    "\n",
    "import ipywidgets as widgets\n",
    "from IPython.display import display\n",
    "\n",
    "class Car:\n",
    "    def on_idle(self):\n",
    "        self.plug.set_trait(name='value', value=self.idle)\n",
    "\n",
    "    def on_connected(self):\n",
    "        self.plug.set_trait(name='value', value=self.carConnected)\n",
    "    \n",
    "    def on_charging(self):\n",
    "        self.plug.set_trait(name='value', value=self.chargeCar)\n",
    "\n",
    "    def on_buttonRegister_press(self, b):\n",
    "        self.stm.send('register_arrival') # <---- here we send a signal\n",
    "\n",
    "    def on_buttonDisconnect_press(self, b):\n",
    "        self.stm.send('car_disconnected')\n",
    "\n",
    "    def on_init(self):\n",
    "        print(\"Car created \\n\")\n",
    "        # load images and store \n",
    "        self.idle = open(\"Images/idle.jpg\", \"rb\").read()\n",
    "        self.carConnected = open(\"Images/connected.jpg\", \"rb\").read()\n",
    "        self.chargeCar = open(\"Images/charging.jpg\", \"rb\").read()\n",
    "\n",
    "        self.plug = widgets.Image(value=self.idle, format='jpg', width=500, height=500)\n",
    "\n",
    "        self.buttonRegister = widgets.Button(description=\"Connect\")\n",
    "        self.buttonRegister.on_click(self.on_buttonRegister_press)\n",
    "\n",
    "        self.buttonDisconnect = widgets.Button(description=\"Disconnect\")\n",
    "        self.buttonDisconnect.on_click(self.on_buttonDisconnect_press)\n",
    "\n",
    "        box = widgets.VBox([self.plug, self.buttonRegister, self.buttonDisconnect])\n",
    "        display(box)\n",
    "\n",
    "    def send_mqtt_register(self):\n",
    "        self.mqtt_client.publish(\"from_car\", \"Car is connected to the charger\")\n",
    "\n",
    "    def send_mqtt_disconnected(self):\n",
    "        self.mqtt_client.publish(\"from_car\", \"Car is disconnected from the charger\")\n",
    "    \n",
    "    def send_mqtt_carinfo(self):\n",
    "        self.mqtt_client.publish(\"from_car\", \"Carinfo\")\n",
    "\n",
    "    def send_mqtt_batteryinfo(self):\n",
    "        self.mqtt_client.publish(\"from_car\", \"Batteryinfo\")\n",
    "    \n",
    "    \n"
   ]
  },
  {
   "cell_type": "code",
   "execution_count": 2,
   "metadata": {},
   "outputs": [],
   "source": [
    "t0_initial = {'source': 'initial',\n",
    "      'target': 'idle',\n",
    "      'effect': 'on_init'}\n",
    "\n",
    "t1_car_connected = {'trigger': 'register_arrival',\n",
    "        'source': 'idle',\n",
    "        'target': 'connected',\n",
    "        'effect': 'send_mqtt_register'\n",
    "}\n",
    "\n",
    "t2_car_disconnected = {'trigger': 'car_disconnected',\n",
    "        'source': 'connected',\n",
    "        'target': 'idle',\n",
    "        'effect': 'send_mqtt_disconnected'\n",
    "}\n",
    "\n",
    "t3_provide_carinfo = {'trigger': 'provide_carinfo',\n",
    "        'source': 'connected',\n",
    "        'target': 'connected',\n",
    "        'effect': 'send_mqtt_carinfo'\n",
    "}\n",
    "\n",
    "t4_provide_batteryinfo = {'trigger': 'provide_batteryinfo',\n",
    "        'source': 'connected',\n",
    "        'target': 'connected',\n",
    "        'effect': 'send_mqtt_batteryinfo'\n",
    "}\n",
    "\n",
    "t5_car_charging = {'trigger': 'start_charging',\n",
    "        'source': 'connected',\n",
    "        'target': 'charging'\n",
    "}\n",
    "\n",
    "t6_car_charging = {'trigger': 'stop_charging',\n",
    "        'source': 'charging',\n",
    "        'target': 'connected'\n",
    "}\n",
    "\n",
    "\n",
    "\n",
    "idle = {'name': 'idle',\n",
    "        'entry': 'on_idle'}\n",
    "\n",
    "connected = {'name': 'connected',\n",
    "             'entry': 'on_connected'}\n",
    "\n",
    "charging = {'name': 'charging',\n",
    "            'entry': 'on_charging'}\n",
    "\n"
   ]
  },
  {
   "cell_type": "code",
   "execution_count": 3,
   "metadata": {},
   "outputs": [],
   "source": [
    "from threading import Thread\n",
    "\n",
    "import paho.mqtt.client as mqtt\n",
    "\n",
    "broker, port = 'test.mosquitto.org', 1883\n",
    "\n",
    "class MQTT_CAR:\n",
    "    def __init__(self):\n",
    "        self.client = mqtt.Client(callback_api_version=mqtt.CallbackAPIVersion.VERSION1)\n",
    "        self.client.on_connect = self.on_connect\n",
    "        self.client.on_message = self.on_message\n",
    "\n",
    "    def on_connect(self, client, userdata, flags, rc):\n",
    "        print(\"on_connect(): {}\".format(mqtt.connack_string(rc)))\n",
    "    \n",
    "    def on_message(self, client, userdata, message):\n",
    "        if message.payload.decode() == \"Requesting data\":\n",
    "            self.stm_driver.send('provide_carinfo', \"car\")\n",
    "        elif message.payload.decode() == \"Please provide battery info\":\n",
    "            self.stm_driver.send('provide_batteryinfo', \"car\")\n",
    "        elif message.payload.decode() == \"Charging started\":\n",
    "            self.stm_driver.send('start_charging', \"car\")\n",
    "        elif message.payload.decode() == \"Charging finished\":\n",
    "            self.stm_driver.send('stop_charging', \"car\")\n",
    "        elif message.payload.decode() == \"Charging is aborted\":\n",
    "            self.stm_driver.send('stop_charging', \"car\")\n",
    "\n",
    "    def start(self, broker, port):     \n",
    "        print(\"Connecting to broker:\", broker, \"port:\", port)\n",
    "        self.client.connect(broker, port)\n",
    "\n",
    "        self.client.subscribe('from_charger')\n",
    "        \n",
    "        try:\n",
    "            # line below should not have the () after the function!\n",
    "            thread = Thread(target=self.client.loop_forever)\n",
    "            thread.start()\n",
    "        except KeyboardInterrupt:\n",
    "            print(\"Interrupted\")\n",
    "            self.client.disconnect()\n",
    "  "
   ]
  },
  {
   "cell_type": "code",
   "execution_count": 4,
   "metadata": {},
   "outputs": [
    {
     "name": "stdout",
     "output_type": "stream",
     "text": [
      "Car created \n",
      "\n",
      "Connecting to broker: test.mosquitto.org port: 1883\n"
     ]
    },
    {
     "name": "stderr",
     "output_type": "stream",
     "text": [
      "C:\\Users\\afwol\\AppData\\Local\\Temp/ipykernel_31268/1808114756.py:9: DeprecationWarning: Callback API version 1 is deprecated, update to latest version\n",
      "  self.client = mqtt.Client(callback_api_version=mqtt.CallbackAPIVersion.VERSION1)\n"
     ]
    },
    {
     "data": {
      "application/vnd.jupyter.widget-view+json": {
       "model_id": "ad88123349884bff882834abb0810ca2",
       "version_major": 2,
       "version_minor": 0
      },
      "text/plain": [
       "VBox(children=(Image(value=b'\\xff\\xd8\\xff\\xe0\\x00\\x10JFIF\\x00\\x01\\x01\\x01\\x00\\x90\\x00\\x90\\x00\\x00\\xff\\xdb\\x00C…"
      ]
     },
     "metadata": {},
     "output_type": "display_data"
    },
    {
     "name": "stdout",
     "output_type": "stream",
     "text": [
      "on_connect(): Connection Accepted.\n"
     ]
    }
   ],
   "source": [
    "car = Car()\n",
    "machine = Machine(name='car', transitions=[t0_initial, t1_car_connected, t2_car_disconnected,\n",
    "                                            t3_provide_carinfo, t4_provide_batteryinfo, t5_car_charging, t6_car_charging], \n",
    "                                               states = [idle, connected, charging], obj=car)\n",
    "\n",
    "car.stm = machine\n",
    "\n",
    "driver = Driver()\n",
    "driver.add_machine(machine)\n",
    "\n",
    "mqtt_car = MQTT_CAR()\n",
    "car.mqtt_client = mqtt_car.client\n",
    "mqtt_car.stm_driver = driver\n",
    "\n",
    "driver.start()\n",
    "mqtt_car.start(broker, port)"
   ]
  }
 ],
 "metadata": {
  "kernelspec": {
   "display_name": "Python 3",
   "language": "python",
   "name": "python3"
  },
  "language_info": {
   "codemirror_mode": {
    "name": "ipython",
    "version": 3
   },
   "file_extension": ".py",
   "mimetype": "text/x-python",
   "name": "python",
   "nbconvert_exporter": "python",
   "pygments_lexer": "ipython3",
   "version": "3.9.13"
  }
 },
 "nbformat": 4,
 "nbformat_minor": 2
}
