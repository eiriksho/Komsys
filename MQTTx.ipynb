{
 "cells": [
  {
   "cell_type": "code",
   "execution_count": null,
   "metadata": {},
   "outputs": [],
   "source": [
    "from stmpy import Driver, Machine\n",
    "\n",
    "\n",
    "class Tick:\n",
    "    def on_init(self):\n",
    "        print(\"Init!\")\n",
    "        self.ticks = 0\n",
    "        self.tocks = 0\n",
    "\n",
    "    def send_mqtt_tick(self):\n",
    "        print(\"Tick! {}\".format(self.ticks))\n",
    "        self.ticks = self.ticks + 1\n",
    "        self.mqtt_client.publish(\"tick\", self.ticks)\n",
    "\n",
    "    def send_mqtt_tock(self):\n",
    "        print(\"Tock! {}\".format(self.tocks))\n",
    "        self.tocks = self.tocks + 1\n",
    "        self.mqtt_client.publish(\"tock\", self.ticks)\n",
    "        if self.tocks > 20:\n",
    "            print(\"20 Tocks counted, getting out\")\n",
    "            self.client.disconnect()\n",
    "\n",
    "\n",
    "# initial transition\n",
    "t0 = {\"source\": \"initial\", \"target\": \"s_tick\", \"effect\": \"on_init\"}\n",
    "\n",
    "t1 = {\n",
    "    \"trigger\": \"message\",\n",
    "    \"source\": \"s_tick\",\n",
    "    \"target\": \"s_tock\",\n",
    "    \"effect\": \"send_mqtt_tick\",\n",
    "}\n",
    "\n",
    "t2 = {\n",
    "    \"trigger\": \"message\",\n",
    "    \"source\": \"s_tock\",\n",
    "    \"target\": \"s_tick\",\n",
    "    \"effect\": \"send_mqtt_tock\",\n",
    "}"
   ]
  },
  {
   "cell_type": "code",
   "execution_count": 6,
   "metadata": {},
   "outputs": [],
   "source": [
    "from threading import Thread\n",
    "\n",
    "import paho.mqtt.client as mqtt\n",
    "\n",
    "\n",
    "class MQTT_Client_1:\n",
    "    def __init__(self):\n",
    "        self.count = 0\n",
    "        self.client = mqtt.Client(callback_api_version=mqtt.CallbackAPIVersion.VERSION1)\n",
    "        self.client.on_connect = self.on_connect\n",
    "        self.client.on_message = self.on_message\n",
    "\n",
    "    def on_connect(self, client, userdata, flags, rc):\n",
    "        print(\"on_connect(): {}\".format(mqtt.connack_string(rc)))\n",
    "\n",
    "    def on_message(self, client, userdata, msg):\n",
    "        print(\"on_message(): topic: {}\".format(msg.topic))\n",
    "        self.stm_driver.send(\"message\", \"tick_tock\")\n",
    "\n",
    "    def start(self, broker, port):\n",
    "\n",
    "        print(\"Connecting to {}:{}\".format(broker, port))\n",
    "        self.client.connect(broker, port)\n",
    "\n",
    "        self.client.subscribe(\"#\")\n",
    "\n",
    "        try:\n",
    "            # line below should not have the () after the function!\n",
    "            thread = Thread(target=self.client.loop_forever)\n",
    "            thread.start()\n",
    "        except KeyboardInterrupt:\n",
    "            print(\"Interrupted\")\n",
    "            self.client.disconnect()"
   ]
  },
  {
   "cell_type": "code",
   "execution_count": 7,
   "metadata": {},
   "outputs": [
    {
     "name": "stdout",
     "output_type": "stream",
     "text": [
      "Init!Connecting to localhost:1883\n",
      "\n"
     ]
    },
    {
     "name": "stderr",
     "output_type": "stream",
     "text": [
      "C:\\Users\\Andre\\AppData\\Local\\Temp\\ipykernel_10984\\2937648216.py:9: DeprecationWarning: Callback API version 1 is deprecated, update to latest version\n",
      "  self.client = mqtt.Client(callback_api_version=mqtt.CallbackAPIVersion.VERSION1)\n"
     ]
    },
    {
     "name": "stdout",
     "output_type": "stream",
     "text": [
      "on_connect(): Connection Accepted.\n"
     ]
    }
   ],
   "source": [
    "broker, port = \"localhost\", 1883\n",
    "\n",
    "tick = Tick()\n",
    "tick_tock_machine = Machine(transitions=[t0, t1, t2], obj=tick, name=\"tick_tock\")\n",
    "tick.stm = tick_tock_machine\n",
    "\n",
    "driver = Driver()\n",
    "driver.add_machine(tick_tock_machine)\n",
    "\n",
    "myclient = MQTT_Client_1()\n",
    "tick.mqtt_client = myclient.client\n",
    "myclient.stm_driver = driver\n",
    "\n",
    "driver.start()\n",
    "myclient.start(broker, port)"
   ]
  }
 ],
 "metadata": {
  "kernelspec": {
   "display_name": "Python 3 (ipykernel)",
   "language": "python",
   "name": "python3"
  }
 },
 "nbformat": 4,
 "nbformat_minor": 2
}
