{
 "cells": [
  {
   "cell_type": "code",
   "execution_count": 29,
   "metadata": {},
   "outputs": [],
   "source": [
    "from stmpy import Machine, Driver\n",
    "\n",
    "import ipywidgets as widgets\n",
    "from IPython.display import display\n",
    "\n",
    "class SCU:\n",
    "    \n",
    "    #def on_buttonConnect_press(self, b):\n",
    "    #    self.stm.send('car_connected') # <---- here we send a signal\n",
    "    \n",
    "    def on_buttonCharge_press(self, b):\n",
    "        self.stm.send('charge') # <---- here we send a signal\n",
    "        self.mqtt_client.publish(\"from_SCU\", \"from_scu_charge_start\")\n",
    "    \n",
    "    #def on_buttonDisconnect_press(self, b):\n",
    "    #    self.stm.send('car_disconnected') # <---- here we send a signal\n",
    "\n",
    "    #def on_buttonChargingFinished_press(self, b):\n",
    "    #    self.stm.send('charging_finished') # <---- here we send a signal\n",
    "    \n",
    "    def on_buttonChargingAborted_press(self, b):\n",
    "        self.stm.send('charging_aborted') # <---- here we send a signal\n",
    "        self.mqtt_client.publish(\"from_SCU\", \"from_scu_charge_abort\")\n",
    "\n",
    "    def on_buttonPlanWanted_press(self, b):\n",
    "        self.stm.send('plan_wanted') # <---- here we send a signal\n",
    "    \n",
    "    def on_buttonPlanMade_press(self, b):\n",
    "        self.stm.send('plan_made') # <---- here we send a signal\n",
    "\n",
    "    def request_car_data(self):\n",
    "        print('requesting car data')\n",
    "\n",
    "    def request_charging(self):\n",
    "        print('requesting charging')\n",
    "    \n",
    "    def request_cloud_data(self):\n",
    "        print('requesting cloud data')\n",
    "           \n",
    "    def __init__(self):\n",
    "    #    self.buttonConnect = widgets.Button(description=\"Connect car\")\n",
    "    #    self.buttonConnect.on_click(self.on_buttonConnect_press)\n",
    "        \n",
    "        self.buttonCharge = widgets.Button(description=\"Charge\")\n",
    "        self.buttonCharge.on_click(self.on_buttonCharge_press)\n",
    "\n",
    "    #    self.buttonDisconnect = widgets.Button(description=\"Disconnect car\")\n",
    "    #    self.buttonDisconnect.on_click(self.on_buttonDisconnect_press)\n",
    "\n",
    "    #    self.buttonChargingFinished = widgets.Button(description=\"Finish charging\")\n",
    "    #    self.buttonChargingFinished.on_click(self.on_buttonChargingFinished_press)\n",
    "\n",
    "        self.buttonChargingAborted = widgets.Button(description=\"Abort charging\")\n",
    "        self.buttonChargingAborted.on_click(self.on_buttonChargingAborted_press)\n",
    "        \n",
    "        self.buttonPlanWanted = widgets.Button(description=\"request charging plan\")\n",
    "        self.buttonPlanWanted.on_click(self.on_buttonPlanWanted_press)\n",
    "\n",
    "        self.buttonPlanMade = widgets.Button(description=\"plan is made\")\n",
    "        self.buttonPlanMade.on_click(self.on_buttonPlanMade_press)\n",
    "\n",
    "        display(self.buttonCharge, self.buttonChargingAborted, self.buttonPlanWanted)#, self.buttonPlanMadeself.buttonDisconnect, self.buttonChargingFinished, self.buttonConnect)"
   ]
  },
  {
   "cell_type": "code",
   "execution_count": 30,
   "metadata": {},
   "outputs": [],
   "source": [
    "\n",
    "t0_initial = {'source': 'initial',\n",
    "      'target': 'idle'}\n",
    "\n",
    "t1_car_connected = {'trigger': 'car_connected',\n",
    "        'source': 'idle',\n",
    "        'target': 'carConnected'\n",
    "}\n",
    "\n",
    "t2_plan_wanted = {'trigger': 'plan_wanted',\n",
    "        'source': 'carConnected',\n",
    "        'target': 'createPlan'\n",
    "}\n",
    "t3_plan_made = {'trigger': 'plan_made',\n",
    "        'source': 'createPlan',\n",
    "        'target': 'carConnected'\n",
    "}\n",
    "t4_charge = {'trigger': 'charge',\n",
    "        'source': 'carConnected',\n",
    "        'target': 'chargeCar'\n",
    "}\n",
    "t5_charging_finished = {'trigger': 'charging_finished',\n",
    "        'source': 'chargeCar',\n",
    "        'target': 'carConnected'\n",
    "}\n",
    "t6_charging_aborted = {'trigger': 'charging_aborted',\n",
    "        'source': 'chargeCar',\n",
    "        'target': 'carConnected'\n",
    "}\n",
    "t7_car_disconnected = {'trigger': 'car_disconnected',\n",
    "        'source': 'carConnected',\n",
    "        'target': 'idle'\n",
    "}\n",
    "\n",
    "idle = {'name': 'idle'}\n",
    "\n",
    "carConnected = {'name': 'carConnected',\n",
    "                'entry': 'request_car_data'}\n",
    "\n",
    "chargeCar = {'name': 'chargeCar',\n",
    "             'entry': 'request_charging'}\n",
    "\n",
    "createPlan = {'name': 'createPlan',\n",
    "              'entry': 'request_cloud_data'}\n"
   ]
  },
  {
   "cell_type": "code",
   "execution_count": 31,
   "metadata": {},
   "outputs": [
    {
     "data": {
      "application/vnd.jupyter.widget-view+json": {
       "model_id": "10390e02001c407895deb401938b64c7",
       "version_major": 2,
       "version_minor": 0
      },
      "text/plain": [
       "Button(description='Charge', style=ButtonStyle())"
      ]
     },
     "metadata": {},
     "output_type": "display_data"
    },
    {
     "data": {
      "application/vnd.jupyter.widget-view+json": {
       "model_id": "cc749ffc18cf4c47a9223f28abaf33d0",
       "version_major": 2,
       "version_minor": 0
      },
      "text/plain": [
       "Button(description='Abort charging', style=ButtonStyle())"
      ]
     },
     "metadata": {},
     "output_type": "display_data"
    },
    {
     "data": {
      "application/vnd.jupyter.widget-view+json": {
       "model_id": "115f759f770749f883db9bfe095af55b",
       "version_major": 2,
       "version_minor": 0
      },
      "text/plain": [
       "Button(description='request charging plan', style=ButtonStyle())"
      ]
     },
     "metadata": {},
     "output_type": "display_data"
    },
    {
     "name": "stdout",
     "output_type": "stream",
     "text": [
      "Connecting to test.mosquitto.org:1883\n"
     ]
    },
    {
     "name": "stderr",
     "output_type": "stream",
     "text": [
      "C:\\Users\\Andre\\AppData\\Local\\Temp\\ipykernel_12320\\2209280419.py:16: DeprecationWarning: Callback API version 1 is deprecated, update to latest version\n",
      "  self.client = mqtt.Client(callback_api_version=mqtt.CallbackAPIVersion.VERSION1)\n"
     ]
    },
    {
     "name": "stdout",
     "output_type": "stream",
     "text": [
      "on_connect(): Connection Accepted.\n"
     ]
    },
    {
     "name": "stderr",
     "output_type": "stream",
     "text": [
      "Machine SCU is in state carConnected and received event car_connected, but no transition with this event is declared!\n",
      "Machine SCU is in state carConnected and received event car_connected, but no transition with this event is declared!\n",
      "Machine SCU is in state carConnected and received event car_connected, but no transition with this event is declared!\n"
     ]
    },
    {
     "name": "stdout",
     "output_type": "stream",
     "text": [
      "requesting car data\n",
      "on_message(): topic: 'from_charger', message: 'from_charger_car_connected'\n",
      "Car connected from charger recieved.\n"
     ]
    }
   ],
   "source": [
    "from threading import Thread\n",
    "\n",
    "import paho.mqtt.client as mqtt\n",
    "\n",
    "broker, port = \"test.mosquitto.org\", 1883\n",
    "\n",
    "scu = SCU()\n",
    "machine = Machine(name='SCU', transitions=[t0_initial, t1_car_connected, t2_plan_wanted, t3_plan_made, t4_charge, t5_charging_finished, t6_charging_aborted, t7_car_disconnected],\n",
    "                                states=[idle, carConnected, chargeCar, createPlan], obj=scu)\n",
    "\n",
    "scu.stm = machine\n",
    "\n",
    "\n",
    "class MQTT_SCU:\n",
    "    def __init__(self):\n",
    "        self.client = mqtt.Client(callback_api_version=mqtt.CallbackAPIVersion.VERSION1)\n",
    "        self.client.on_connect = self.on_connect\n",
    "        self.client.on_message = self.on_message\n",
    "\n",
    "    def on_connect(self, client, userdata, flags, rc):\n",
    "        print(\"on_connect(): {}\".format(mqtt.connack_string(rc)))\n",
    "\n",
    "    def on_message(self, client, userdata, message):\n",
    "        print(\"on_message(): topic: '{}', message: '{}'\".format(message.topic, message.payload.decode()))\n",
    "        if message.payload.decode() == \"from_charger_car_connected\":\n",
    "            print(\"Car connected from charger recieved.\")\n",
    "            scu.stm.send('car_connected') # Send car connected to state machine\n",
    "        elif message.payload.decode() == \"from_charger_charge_complete\":\n",
    "            print(\"Charge complete from charger recieved.\")\n",
    "            scu.stm.send('charging_finished') # Send charge finished to state machine\n",
    "        elif message.payload.decode() == \"from_charger_car_disconnected\":\n",
    "            print(\"Car disconnected from charger recieved.\")\n",
    "            scu.stm.send('car_disconnected') # Send car disconnected to state machine\n",
    "        # elif more stuff\n",
    "\n",
    "    def start(self, broker, port):\n",
    "\n",
    "        print(\"Connecting to {}:{}\".format(broker, port))\n",
    "        self.client.connect(broker, port)\n",
    "\n",
    "        self.client.subscribe(\"from_charger\")\n",
    "\n",
    "        try:\n",
    "            # line below should not have the () after the function!\n",
    "            thread = Thread(target=self.client.loop_forever)\n",
    "            thread.start()\n",
    "        except KeyboardInterrupt:\n",
    "            print(\"Interrupted\")\n",
    "            self.client.disconnect()\n",
    "\n",
    "            \n",
    "driver = Driver()\n",
    "driver.add_machine(machine)\n",
    "\n",
    "mqtt_scu = MQTT_SCU()\n",
    "scu.mqtt_client = mqtt_scu.client\n",
    "mqtt_scu.stm_driver = driver\n",
    "\n",
    "driver.start()\n",
    "mqtt_scu.start(broker, port)"
   ]
  }
 ],
 "metadata": {
  "kernelspec": {
   "display_name": "Python 3",
   "language": "python",
   "name": "python3"
  },
  "language_info": {
   "codemirror_mode": {
    "name": "ipython",
    "version": 3
   },
   "file_extension": ".py",
   "mimetype": "text/x-python",
   "name": "python",
   "nbconvert_exporter": "python",
   "pygments_lexer": "ipython3",
   "version": "3.9.7"
  }
 },
 "nbformat": 4,
 "nbformat_minor": 2
}
