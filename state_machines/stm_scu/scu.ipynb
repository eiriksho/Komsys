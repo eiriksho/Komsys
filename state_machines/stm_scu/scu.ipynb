{
 "cells": [
  {
   "cell_type": "code",
   "execution_count": 2,
   "metadata": {},
   "outputs": [
    {
     "data": {
      "application/vnd.jupyter.widget-view+json": {
       "model_id": "a5bdef2703174d1499b4ee6b8b9bb60f",
       "version_major": 2,
       "version_minor": 0
      },
      "text/plain": [
       "Button(description='Connect car', style=ButtonStyle())"
      ]
     },
     "metadata": {},
     "output_type": "display_data"
    },
    {
     "data": {
      "application/vnd.jupyter.widget-view+json": {
       "model_id": "798a49dca1524eed9ec049358cdfb922",
       "version_major": 2,
       "version_minor": 0
      },
      "text/plain": [
       "Button(description='Charge', style=ButtonStyle())"
      ]
     },
     "metadata": {},
     "output_type": "display_data"
    },
    {
     "data": {
      "application/vnd.jupyter.widget-view+json": {
       "model_id": "9d04ee97989a4f67a95d641bbc8ebfab",
       "version_major": 2,
       "version_minor": 0
      },
      "text/plain": [
       "Button(description='Disconnect car', style=ButtonStyle())"
      ]
     },
     "metadata": {},
     "output_type": "display_data"
    },
    {
     "data": {
      "application/vnd.jupyter.widget-view+json": {
       "model_id": "2d6ae86c9fcb469ea4c488b6eb1b9cf4",
       "version_major": 2,
       "version_minor": 0
      },
      "text/plain": [
       "Button(description='Finish charging', style=ButtonStyle())"
      ]
     },
     "metadata": {},
     "output_type": "display_data"
    },
    {
     "data": {
      "application/vnd.jupyter.widget-view+json": {
       "model_id": "ef7a2c14c21044b7bc235c7728e19875",
       "version_major": 2,
       "version_minor": 0
      },
      "text/plain": [
       "Button(description='Abort charging', style=ButtonStyle())"
      ]
     },
     "metadata": {},
     "output_type": "display_data"
    },
    {
     "data": {
      "application/vnd.jupyter.widget-view+json": {
       "model_id": "8c38b65a3c974e54b99fc342d0b1379e",
       "version_major": 2,
       "version_minor": 0
      },
      "text/plain": [
       "Button(description='request charging plan', style=ButtonStyle())"
      ]
     },
     "metadata": {},
     "output_type": "display_data"
    },
    {
     "data": {
      "application/vnd.jupyter.widget-view+json": {
       "model_id": "972aefe535104dac882b0fa1db833f89",
       "version_major": 2,
       "version_minor": 0
      },
      "text/plain": [
       "Button(description='plan is made', style=ButtonStyle())"
      ]
     },
     "metadata": {},
     "output_type": "display_data"
    },
    {
     "name": "stderr",
     "output_type": "stream",
     "text": [
      "Machine SCU is in state chargeCar and received event car_disconnected, but no transition with this event is declared!\n",
      "Machine SCU is in state carConnected and received event charging_aborted, but no transition with this event is declared!\n"
     ]
    }
   ],
   "source": [
    "from stmpy import Machine, Driver\n",
    "\n",
    "import ipywidgets as widgets\n",
    "from IPython.display import display\n",
    "\n",
    "class SCU:\n",
    "    \n",
    "    def on_buttonConnect_press(self, b):\n",
    "        self.stm.send('car_connected') # <---- here we send a signal\n",
    "    \n",
    "    def on_buttonCharge_press(self, b):\n",
    "        self.stm.send('charge') # <---- here we send a signal\n",
    "    \n",
    "    def on_buttonDisconnect_press(self, b):\n",
    "        self.stm.send('car_disconnected') # <---- here we send a signal\n",
    "\n",
    "    def on_buttonChargingFinished_press(self, b):\n",
    "        self.stm.send('charging_finished') # <---- here we send a signal\n",
    "    \n",
    "    def on_buttonChargingAborted_press(self, b):\n",
    "        self.stm.send('charging_aborted') # <---- here we send a signal\n",
    "\n",
    "    def on_buttonPlanWanted_press(self, b):\n",
    "        self.stm.send('plan_wanted') # <---- here we send a signal\n",
    "    \n",
    "    def on_buttonPlanMade_press(self, b):\n",
    "        self.stm.send('plan_made') # <---- here we send a signal\n",
    "           \n",
    "    def __init__(self):\n",
    "        # load images and store them\n",
    "        self.buttonConnect = widgets.Button(description=\"Connect car\")\n",
    "        self.buttonConnect.on_click(self.on_buttonConnect_press)\n",
    "        \n",
    "        self.buttonCharge = widgets.Button(description=\"Charge\")\n",
    "        self.buttonCharge.on_click(self.on_buttonCharge_press)\n",
    "\n",
    "        self.buttonDisconnect = widgets.Button(description=\"Disconnect car\")\n",
    "        self.buttonDisconnect.on_click(self.on_buttonDisconnect_press)\n",
    "\n",
    "        self.buttonChargingFinished = widgets.Button(description=\"Finish charging\")\n",
    "        self.buttonChargingFinished.on_click(self.on_buttonChargingFinished_press)\n",
    "\n",
    "        self.buttonChargingAborted = widgets.Button(description=\"Abort charging\")\n",
    "        self.buttonChargingAborted.on_click(self.on_buttonChargingAborted_press)\n",
    "        \n",
    "        self.buttonPlanWanted = widgets.Button(description=\"request charging plan\")\n",
    "        self.buttonPlanWanted.on_click(self.on_buttonPlanWanted_press)\n",
    "\n",
    "        self.buttonPlanMade = widgets.Button(description=\"plan is made\")\n",
    "        self.buttonPlanMade.on_click(self.on_buttonPlanMade_press)\n",
    "\n",
    "        display(self.buttonConnect, self.buttonCharge, self.buttonDisconnect, self.buttonChargingFinished, self.buttonChargingAborted, self.buttonPlanWanted, self.buttonPlanMade)\n",
    "\n",
    "\n",
    "scu = SCU()\n",
    "\n",
    "t0_initial = {'source': 'initial',\n",
    "      'target': 'idle'}\n",
    "\n",
    "t1_car_connected = {'trigger': 'car_connected',\n",
    "        'source': 'idle',\n",
    "        'target': 'carConnected'\n",
    "}\n",
    "\n",
    "t2_plan_wanted = {'trigger': 'plan_wanted',\n",
    "        'source': 'carConnected',\n",
    "        'target': 'createPlan'\n",
    "}\n",
    "t3_plan_made = {'trigger': 'plan_made',\n",
    "        'source': 'createPlan',\n",
    "        'target': 'carConnected'\n",
    "}\n",
    "t4_charge = {'trigger': 'charge',\n",
    "        'source': 'carConnected',\n",
    "        'target': 'chargeCar'\n",
    "}\n",
    "t5_charging_finished = {'trigger': 'charging_finished',\n",
    "        'source': 'chargeCar',\n",
    "        'target': 'carConnected'\n",
    "}\n",
    "t6_charging_aborted = {'trigger': 'charging_aborted',\n",
    "        'source': 'chargeCar',\n",
    "        'target': 'carConnected'\n",
    "}\n",
    "t7_car_disconnected = {'trigger': 'car_disconnected',\n",
    "        'source': 'carConnected',\n",
    "        'target': 'idle'\n",
    "}\n",
    "\n",
    "idle = {'name': 'idle'}\n",
    "\n",
    "carConnected = {'name': 'carConnected'}\n",
    "\n",
    "chargeCar = {'name': 'chargeCar'}\n",
    "\n",
    "createPlan = {'name': 'createPlan'}\n",
    "\n",
    "machine = Machine(name='SCU', transitions=[t0_initial, t1_car_connected, t2_plan_wanted, t3_plan_made, t4_charge, t5_charging_finished, t6_charging_aborted, t7_car_disconnected],\n",
    "                                states=[idle, carConnected, chargeCar, createPlan], obj=scu)\n",
    "\n",
    "scu.stm = machine\n",
    "driver = Driver()\n",
    "driver.add_machine(machine)\n",
    "driver.start()"
   ]
  }
 ],
 "metadata": {
  "kernelspec": {
   "display_name": "Python 3",
   "language": "python",
   "name": "python3"
  },
  "language_info": {
   "codemirror_mode": {
    "name": "ipython",
    "version": 3
   },
   "file_extension": ".py",
   "mimetype": "text/x-python",
   "name": "python",
   "nbconvert_exporter": "python",
   "pygments_lexer": "ipython3",
   "version": "3.9.13"
  }
 },
 "nbformat": 4,
 "nbformat_minor": 2
}
