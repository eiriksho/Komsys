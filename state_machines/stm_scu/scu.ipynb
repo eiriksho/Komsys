{
 "cells": [
  {
   "cell_type": "code",
   "execution_count": 8,
   "metadata": {},
   "outputs": [
    {
     "data": {
      "application/vnd.jupyter.widget-view+json": {
       "model_id": "568aa24fb0224a8d9cb19ba3c5ff3686",
       "version_major": 2,
       "version_minor": 0
      },
      "text/plain": [
       "Image(value=b'\\xff\\xd8\\xff\\xe0\\x00\\x10JFIF\\x00\\x01\\x01\\x01\\x00\\x90\\x00\\x90\\x00\\x00\\xff\\xdb\\x00C\\x00\\x01\\x01\\x0…"
      ]
     },
     "metadata": {},
     "output_type": "display_data"
    },
    {
     "data": {
      "application/vnd.jupyter.widget-view+json": {
       "model_id": "c8be6699f22a4186a9bc21080b82d371",
       "version_major": 2,
       "version_minor": 0
      },
      "text/plain": [
       "Button(description='Connect car', style=ButtonStyle())"
      ]
     },
     "metadata": {},
     "output_type": "display_data"
    },
    {
     "data": {
      "application/vnd.jupyter.widget-view+json": {
       "model_id": "54e8bf3591b84e7792bfbf9909a73153",
       "version_major": 2,
       "version_minor": 0
      },
      "text/plain": [
       "Button(description='Charge', style=ButtonStyle())"
      ]
     },
     "metadata": {},
     "output_type": "display_data"
    },
    {
     "data": {
      "application/vnd.jupyter.widget-view+json": {
       "model_id": "20fa1acc3ff04c8185ee39f9c2e4d31a",
       "version_major": 2,
       "version_minor": 0
      },
      "text/plain": [
       "Button(description='Disconnect car', style=ButtonStyle())"
      ]
     },
     "metadata": {},
     "output_type": "display_data"
    },
    {
     "data": {
      "application/vnd.jupyter.widget-view+json": {
       "model_id": "58d5923af2e548db8f6945dbca1f5dfe",
       "version_major": 2,
       "version_minor": 0
      },
      "text/plain": [
       "Button(description='Finish charging', style=ButtonStyle())"
      ]
     },
     "metadata": {},
     "output_type": "display_data"
    },
    {
     "data": {
      "application/vnd.jupyter.widget-view+json": {
       "model_id": "eb52f763dd5a43ec979b488a22048d67",
       "version_major": 2,
       "version_minor": 0
      },
      "text/plain": [
       "Button(description='Abort charging', style=ButtonStyle())"
      ]
     },
     "metadata": {},
     "output_type": "display_data"
    },
    {
     "data": {
      "application/vnd.jupyter.widget-view+json": {
       "model_id": "f091bcf2255048a2b3b4c37478923d8a",
       "version_major": 2,
       "version_minor": 0
      },
      "text/plain": [
       "Button(description='request charging plan', style=ButtonStyle())"
      ]
     },
     "metadata": {},
     "output_type": "display_data"
    },
    {
     "data": {
      "application/vnd.jupyter.widget-view+json": {
       "model_id": "5665a5dc6cb14078a4f1711b45c0af69",
       "version_major": 2,
       "version_minor": 0
      },
      "text/plain": [
       "Button(description='plan is made', style=ButtonStyle())"
      ]
     },
     "metadata": {},
     "output_type": "display_data"
    },
    {
     "name": "stdout",
     "output_type": "stream",
     "text": [
      "requesting car data\n"
     ]
    }
   ],
   "source": [
    "from stmpy import Machine, Driver\n",
    "\n",
    "import ipywidgets as widgets\n",
    "from IPython.display import display\n",
    "\n",
    "def on_connect(rc):\n",
    "    print(\"Connected with result code \"+str(rc))\n",
    "\n",
    "# The callback for when a PUBLISH message is received from the server.\n",
    "def on_message(msg):\n",
    "    print(msg.topic+\" \"+str(msg.payload))\n",
    "\n",
    "myclient = MQTT_Client_1()\n",
    "myclient.on_connect = on_connect\n",
    "myclient.on_message = on_message\n",
    "\n",
    "broker, port = \"test.mosquitto.org\", 1883\n",
    "\n",
    "class SCU:\n",
    "    \n",
    "    def on_buttonConnect_press(self, b):\n",
    "        self.stm.send('car_connected') # <---- here we send a signal\n",
    "    \n",
    "    def on_buttonCharge_press(self, b):\n",
    "        self.stm.send('charge') # <---- here we send a signal\n",
    "    \n",
    "    def on_buttonDisconnect_press(self, b):\n",
    "        self.stm.send('car_disconnected') # <---- here we send a signal\n",
    "\n",
    "    def on_buttonChargingFinished_press(self, b):\n",
    "        self.stm.send('charging_finished') # <---- here we send a signal\n",
    "    \n",
    "    def on_buttonChargingAborted_press(self, b):\n",
    "        self.stm.send('charging_aborted') # <---- here we send a signal\n",
    "\n",
    "    def on_buttonPlanWanted_press(self, b):\n",
    "        self.stm.send('plan_wanted') # <---- here we send a signal\n",
    "    \n",
    "    def on_buttonPlanMade_press(self, b):\n",
    "        self.stm.send('plan_made') # <---- here we send a signal\n",
    "\n",
    "    def request_car_data(self):\n",
    "        self.plug.set_trait(name='value', value=self.carConnected)\n",
    "        print('requesting car data')\n",
    "\n",
    "    def request_charging(self):\n",
    "        self.plug.set_trait(name='value', value=self.chargeCar)\n",
    "        print('requesting charging')\n",
    "    \n",
    "    def request_cloud_data(self):\n",
    "        print('requesting cloud data')\n",
    "           \n",
    "    def __init__(self):\n",
    "        # load images and store them\n",
    "        self.idle = open(\"../../Images/idle.jpg\", \"rb\").read()\n",
    "        self.carConnected = open(\"../../Images/connected.jpg\", \"rb\").read()\n",
    "        self.chargeCar = open(\"../../Images/charging.jpg\", \"rb\").read()\n",
    "\n",
    "        self.plug = widgets.Image(value=self.idle, format='jpg', width=500, height=500)\n",
    "\n",
    "        self.buttonConnect = widgets.Button(description=\"Connect car\")\n",
    "        self.buttonConnect.on_click(self.on_buttonConnect_press)\n",
    "        \n",
    "        self.buttonCharge = widgets.Button(description=\"Charge\")\n",
    "        self.buttonCharge.on_click(self.on_buttonCharge_press)\n",
    "\n",
    "        self.buttonDisconnect = widgets.Button(description=\"Disconnect car\")\n",
    "        self.buttonDisconnect.on_click(self.on_buttonDisconnect_press)\n",
    "\n",
    "        self.buttonChargingFinished = widgets.Button(description=\"Finish charging\")\n",
    "        self.buttonChargingFinished.on_click(self.on_buttonChargingFinished_press)\n",
    "\n",
    "        self.buttonChargingAborted = widgets.Button(description=\"Abort charging\")\n",
    "        self.buttonChargingAborted.on_click(self.on_buttonChargingAborted_press)\n",
    "        \n",
    "        self.buttonPlanWanted = widgets.Button(description=\"request charging plan\")\n",
    "        self.buttonPlanWanted.on_click(self.on_buttonPlanWanted_press)\n",
    "\n",
    "        self.buttonPlanMade = widgets.Button(description=\"plan is made\")\n",
    "        self.buttonPlanMade.on_click(self.on_buttonPlanMade_press)\n",
    "\n",
    "        display(self.plug, self.buttonConnect, self.buttonCharge, self.buttonDisconnect, self.buttonChargingFinished, self.buttonChargingAborted, self.buttonPlanWanted, self.buttonPlanMade)\n",
    "\n",
    "\n",
    "scu = SCU()\n",
    "\n",
    "t0_initial = {'source': 'initial',\n",
    "      'target': 'idle'}\n",
    "\n",
    "t1_car_connected = {'trigger': 'car_connected',\n",
    "        'source': 'idle',\n",
    "        'target': 'carConnected'\n",
    "}\n",
    "\n",
    "t2_plan_wanted = {'trigger': 'plan_wanted',\n",
    "        'source': 'carConnected',\n",
    "        'target': 'createPlan'\n",
    "}\n",
    "t3_plan_made = {'trigger': 'plan_made',\n",
    "        'source': 'createPlan',\n",
    "        'target': 'carConnected'\n",
    "}\n",
    "t4_charge = {'trigger': 'charge',\n",
    "        'source': 'carConnected',\n",
    "        'target': 'chargeCar'\n",
    "}\n",
    "t5_charging_finished = {'trigger': 'charging_finished',\n",
    "        'source': 'chargeCar',\n",
    "        'target': 'carConnected'\n",
    "}\n",
    "t6_charging_aborted = {'trigger': 'charging_aborted',\n",
    "        'source': 'chargeCar',\n",
    "        'target': 'carConnected'\n",
    "}\n",
    "t7_car_disconnected = {'trigger': 'car_disconnected',\n",
    "        'source': 'carConnected',\n",
    "        'target': 'idle'\n",
    "}\n",
    "\n",
    "idle = {'name': 'idle'}\n",
    "\n",
    "carConnected = {'name': 'carConnected',\n",
    "                'entry': 'request_car_data'}\n",
    "\n",
    "chargeCar = {'name': 'chargeCar',\n",
    "             'entry': 'request_charging'}\n",
    "\n",
    "createPlan = {'name': 'createPlan',\n",
    "              'entry': 'request_cloud_data'}\n",
    "\n",
    "machine = Machine(name='SCU', transitions=[t0_initial, t1_car_connected, t2_plan_wanted, t3_plan_made, t4_charge, t5_charging_finished, t6_charging_aborted, t7_car_disconnected],\n",
    "                                states=[idle, carConnected, chargeCar, createPlan], obj=scu)\n",
    "\n",
    "scu.stm = machine\n",
    "driver = Driver()\n",
    "driver.add_machine(machine)\n",
    "driver.start()\n",
    "scu.mqtt_client = myclient.client\n",
    "myclient.start(broker, port)"
   ]
  }
 ],
 "metadata": {
  "kernelspec": {
   "display_name": "Python 3",
   "language": "python",
   "name": "python3"
  },
  "language_info": {
   "codemirror_mode": {
    "name": "ipython",
    "version": 3
   },
   "file_extension": ".py",
   "mimetype": "text/x-python",
   "name": "python",
   "nbconvert_exporter": "python",
   "pygments_lexer": "ipython3",
   "version": "3.9.6"
  }
 },
 "nbformat": 4,
 "nbformat_minor": 2
}
