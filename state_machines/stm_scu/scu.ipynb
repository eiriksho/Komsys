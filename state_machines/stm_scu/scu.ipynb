{
 "cells": [
  {
   "cell_type": "code",
   "execution_count": 1,
   "metadata": {},
   "outputs": [
    {
     "data": {
      "application/vnd.jupyter.widget-view+json": {
       "model_id": "070f228f4ccb480d9f4270d64fc0e0f8",
       "version_major": 2,
       "version_minor": 0
      },
      "text/plain": [
       "Button(description='Connect car', style=ButtonStyle())"
      ]
     },
     "metadata": {},
     "output_type": "display_data"
    },
    {
     "data": {
      "application/vnd.jupyter.widget-view+json": {
       "model_id": "0805c46f371d4526828024c354386054",
       "version_major": 2,
       "version_minor": 0
      },
      "text/plain": [
       "Button(description='Charge', style=ButtonStyle())"
      ]
     },
     "metadata": {},
     "output_type": "display_data"
    },
    {
     "data": {
      "application/vnd.jupyter.widget-view+json": {
       "model_id": "8e4ce6ba205c4a669e6e8720f06e4f04",
       "version_major": 2,
       "version_minor": 0
      },
      "text/plain": [
       "Button(description='Disconnect car', style=ButtonStyle())"
      ]
     },
     "metadata": {},
     "output_type": "display_data"
    },
    {
     "data": {
      "application/vnd.jupyter.widget-view+json": {
       "model_id": "94c91116eac14efe87326f7ea15c4ebe",
       "version_major": 2,
       "version_minor": 0
      },
      "text/plain": [
       "Button(description='Finish charging', style=ButtonStyle())"
      ]
     },
     "metadata": {},
     "output_type": "display_data"
    },
    {
     "data": {
      "application/vnd.jupyter.widget-view+json": {
       "model_id": "138ef05171e245f4871c31d495edb6cb",
       "version_major": 2,
       "version_minor": 0
      },
      "text/plain": [
       "Button(description='Abort charging', style=ButtonStyle())"
      ]
     },
     "metadata": {},
     "output_type": "display_data"
    },
    {
     "data": {
      "application/vnd.jupyter.widget-view+json": {
       "model_id": "6c0de857a6da449aaac385b9148837dc",
       "version_major": 2,
       "version_minor": 0
      },
      "text/plain": [
       "Button(description='request charging plan', style=ButtonStyle())"
      ]
     },
     "metadata": {},
     "output_type": "display_data"
    },
    {
     "data": {
      "application/vnd.jupyter.widget-view+json": {
       "model_id": "965c9862012544398c46606fc8139f7e",
       "version_major": 2,
       "version_minor": 0
      },
      "text/plain": [
       "Button(description='plan is made', style=ButtonStyle())"
      ]
     },
     "metadata": {},
     "output_type": "display_data"
    },
    {
     "name": "stderr",
     "output_type": "stream",
     "text": [
      "Exception in thread Thread-4:\n",
      "Traceback (most recent call last):\n",
      "  File \"/Library/Developer/CommandLineTools/Library/Frameworks/Python3.framework/Versions/3.9/lib/python3.9/threading.py\", line 973, in _bootstrap_inner\n",
      "    self.run()\n",
      "  File \"/Users/eirikhoem/Library/Python/3.9/lib/python/site-packages/ipykernel/ipkernel.py\", line 766, in run_closure\n",
      "    _threading_Thread_run(self)\n",
      "  File \"/Library/Developer/CommandLineTools/Library/Frameworks/Python3.framework/Versions/3.9/lib/python3.9/threading.py\", line 910, in run\n",
      "    self._target(*self._args, **self._kwargs)\n",
      "  File \"/Users/eirikhoem/Library/Python/3.9/lib/python/site-packages/stmpy/__init__.py\", line 421, in _start_loop\n",
      "    self._execute_transition(stm=event['stm'],\n",
      "  File \"/Users/eirikhoem/Library/Python/3.9/lib/python/site-packages/stmpy/__init__.py\", line 405, in _execute_transition\n",
      "    stm._execute_transition(event_id, args, kwargs)\n",
      "  File \"/Users/eirikhoem/Library/Python/3.9/lib/python/site-packages/stmpy/__init__.py\", line 763, in _execute_transition\n",
      "    self._enter_state(target, args, kwargs)\n",
      "  File \"/Users/eirikhoem/Library/Python/3.9/lib/python/site-packages/stmpy/__init__.py\", line 715, in _enter_state\n",
      "    self._run_actions(self._states[state].entry)\n",
      "  File \"/Users/eirikhoem/Library/Python/3.9/lib/python/site-packages/stmpy/__init__.py\", line 694, in _run_actions\n",
      "    self._run_function(self._obj, action['name'], args, kwargs)\n",
      "  File \"/Users/eirikhoem/Library/Python/3.9/lib/python/site-packages/stmpy/__init__.py\", line 648, in _run_function\n",
      "    func = getattr(obj, function_name)\n",
      "AttributeError: 'SCU' object has no attribute 'request_car_data'\n"
     ]
    }
   ],
   "source": [
    "from stmpy import Machine, Driver\n",
    "\n",
    "import ipywidgets as widgets\n",
    "from IPython.display import display\n",
    "\n",
    "class SCU:\n",
    "    \n",
    "    def on_buttonConnect_press(self, b):\n",
    "        self.stm.send('car_connected') # <---- here we send a signal\n",
    "    \n",
    "    def on_buttonCharge_press(self, b):\n",
    "        self.stm.send('charge') # <---- here we send a signal\n",
    "    \n",
    "    def on_buttonDisconnect_press(self, b):\n",
    "        self.stm.send('car_disconnected') # <---- here we send a signal\n",
    "\n",
    "    def on_buttonChargingFinished_press(self, b):\n",
    "        self.stm.send('charging_finished') # <---- here we send a signal\n",
    "    \n",
    "    def on_buttonChargingAborted_press(self, b):\n",
    "        self.stm.send('charging_aborted') # <---- here we send a signal\n",
    "\n",
    "    def on_buttonPlanWanted_press(self, b):\n",
    "        self.stm.send('plan_wanted') # <---- here we send a signal\n",
    "    \n",
    "    def on_buttonPlanMade_press(self, b):\n",
    "        self.stm.send('plan_made') # <---- here we send a signal\n",
    "\n",
    "    def request_car_data(self):\n",
    "        print('requesting car data')\n",
    "\n",
    "    def request_charging(self):\n",
    "        print('requesting charging')\n",
    "    \n",
    "    def request_cloud_data(self):\n",
    "        print('requesting cloud data')\n",
    "           \n",
    "    def __init__(self):\n",
    "        # load images and store them\n",
    "        self.buttonConnect = widgets.Button(description=\"Connect car\")\n",
    "        self.buttonConnect.on_click(self.on_buttonConnect_press)\n",
    "        \n",
    "        self.buttonCharge = widgets.Button(description=\"Charge\")\n",
    "        self.buttonCharge.on_click(self.on_buttonCharge_press)\n",
    "\n",
    "        self.buttonDisconnect = widgets.Button(description=\"Disconnect car\")\n",
    "        self.buttonDisconnect.on_click(self.on_buttonDisconnect_press)\n",
    "\n",
    "        self.buttonChargingFinished = widgets.Button(description=\"Finish charging\")\n",
    "        self.buttonChargingFinished.on_click(self.on_buttonChargingFinished_press)\n",
    "\n",
    "        self.buttonChargingAborted = widgets.Button(description=\"Abort charging\")\n",
    "        self.buttonChargingAborted.on_click(self.on_buttonChargingAborted_press)\n",
    "        \n",
    "        self.buttonPlanWanted = widgets.Button(description=\"request charging plan\")\n",
    "        self.buttonPlanWanted.on_click(self.on_buttonPlanWanted_press)\n",
    "\n",
    "        self.buttonPlanMade = widgets.Button(description=\"plan is made\")\n",
    "        self.buttonPlanMade.on_click(self.on_buttonPlanMade_press)\n",
    "\n",
    "        display(self.buttonConnect, self.buttonCharge, self.buttonDisconnect, self.buttonChargingFinished, self.buttonChargingAborted, self.buttonPlanWanted, self.buttonPlanMade)\n",
    "\n",
    "\n",
    "scu = SCU()\n",
    "\n",
    "t0_initial = {'source': 'initial',\n",
    "      'target': 'idle'}\n",
    "\n",
    "t1_car_connected = {'trigger': 'car_connected',\n",
    "        'source': 'idle',\n",
    "        'target': 'carConnected'\n",
    "}\n",
    "\n",
    "t2_plan_wanted = {'trigger': 'plan_wanted',\n",
    "        'source': 'carConnected',\n",
    "        'target': 'createPlan'\n",
    "}\n",
    "t3_plan_made = {'trigger': 'plan_made',\n",
    "        'source': 'createPlan',\n",
    "        'target': 'carConnected'\n",
    "}\n",
    "t4_charge = {'trigger': 'charge',\n",
    "        'source': 'carConnected',\n",
    "        'target': 'chargeCar'\n",
    "}\n",
    "t5_charging_finished = {'trigger': 'charging_finished',\n",
    "        'source': 'chargeCar',\n",
    "        'target': 'carConnected'\n",
    "}\n",
    "t6_charging_aborted = {'trigger': 'charging_aborted',\n",
    "        'source': 'chargeCar',\n",
    "        'target': 'carConnected'\n",
    "}\n",
    "t7_car_disconnected = {'trigger': 'car_disconnected',\n",
    "        'source': 'carConnected',\n",
    "        'target': 'idle'\n",
    "}\n",
    "\n",
    "idle = {'name': 'idle'}\n",
    "\n",
    "carConnected = {'name': 'carConnected',\n",
    "                'entry': 'request_car_data'}\n",
    "\n",
    "chargeCar = {'name': 'chargeCar',\n",
    "             'entry': 'request_charging'}\n",
    "\n",
    "createPlan = {'name': 'createPlan',\n",
    "              'entry': 'request_cloud_data'}\n",
    "\n",
    "machine = Machine(name='SCU', transitions=[t0_initial, t1_car_connected, t2_plan_wanted, t3_plan_made, t4_charge, t5_charging_finished, t6_charging_aborted, t7_car_disconnected],\n",
    "                                states=[idle, carConnected, chargeCar, createPlan], obj=scu)\n",
    "\n",
    "scu.stm = machine\n",
    "driver = Driver()\n",
    "driver.add_machine(machine)\n",
    "driver.start()"
   ]
  }
 ],
 "metadata": {
  "kernelspec": {
   "display_name": "Python 3",
   "language": "python",
   "name": "python3"
  },
  "language_info": {
   "codemirror_mode": {
    "name": "ipython",
    "version": 3
   },
   "file_extension": ".py",
   "mimetype": "text/x-python",
   "name": "python",
   "nbconvert_exporter": "python",
   "pygments_lexer": "ipython3",
   "version": "3.9.6"
  }
 },
 "nbformat": 4,
 "nbformat_minor": 2
}
