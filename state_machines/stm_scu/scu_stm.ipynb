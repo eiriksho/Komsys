{
  "nbformat": 4,
  "nbformat_minor": 0,
  "metadata": {
    "colab": {
      "provenance": []
    },
    "kernelspec": {
      "name": "python3",
      "display_name": "Python 3"
    },
    "language_info": {
      "name": "python"
    }
  },
  "cells": [
    {
      "cell_type": "markdown",
      "source": [
        "Installs:\n",
        "\n",
        "---\n",
        "\n"
      ],
      "metadata": {
        "id": "tOJOWfK5tQVG"
      }
    },
    {
      "cell_type": "code",
      "source": [
        "!python3 -m pip install --upgrade stmpy\n",
        "import stmpy\n",
        "from stmpy import Machine, Driver\n",
        "from IPython.display import clear_output\n",
        "\n",
        "print(\"STMPY Version installed: {}\".format(stmpy.__version__))"
      ],
      "metadata": {
        "colab": {
          "base_uri": "https://localhost:8080/"
        },
        "id": "Dm3d8937tSL-",
        "outputId": "26cbcbb3-ea02-4625-b07f-e7b571c628d3"
      },
      "execution_count": 1,
      "outputs": [
        {
          "output_type": "stream",
          "name": "stdout",
          "text": [
            "Collecting stmpy\n",
            "  Downloading stmpy-0.7.5.tar.gz (10 kB)\n",
            "  Preparing metadata (setup.py) ... \u001b[?25l\u001b[?25hdone\n",
            "Building wheels for collected packages: stmpy\n",
            "  Building wheel for stmpy (setup.py) ... \u001b[?25l\u001b[?25hdone\n",
            "  Created wheel for stmpy: filename=stmpy-0.7.5-py3-none-any.whl size=10590 sha256=2960eb70d3a3bb910688fb0286a183f6cf0921c28039fd231e2472cc3aea3e52\n",
            "  Stored in directory: /root/.cache/pip/wheels/ef/fa/5c/d67e0fcafa53a292a41d5c902eea4ffbedfcc148c913de6bb8\n",
            "Successfully built stmpy\n",
            "Installing collected packages: stmpy\n",
            "Successfully installed stmpy-0.7.5\n",
            "STMPY Version installed: 0.7.5\n"
          ]
        }
      ]
    },
    {
      "cell_type": "markdown",
      "source": [
        "Define SCU State Machine:"
      ],
      "metadata": {
        "id": "Vnq3CtRFtqYb"
      }
    },
    {
      "cell_type": "code",
      "source": [
        "class scu_class:\n",
        "\n",
        "    def on_init(self):\n",
        "        clear_output(wait=True)\n",
        "        self.stm.driver.print_status()\n",
        "\n",
        "    def on_idle(self):\n",
        "        clear_output(wait=True)\n",
        "        self.stm.send('scu_idle') # <---- here we send a signal\n",
        "        self.stm.driver.print_status()\n",
        "\n",
        "    # car connected:\n",
        "    def on_getCarData(self):\n",
        "        clear_output(wait=True)\n",
        "        self.stm.send('scu_getCarData')\n",
        "        print(self.stm.driver.print_status())\n",
        "\n",
        "        self.stm.send('charger_requestData')\n",
        "        #if recievedDataFromCar == true:\n",
        "        #    chargerFromCar_recievedData\n",
        "\n",
        "    def on_updateCloud(self):\n",
        "        clear_output(wait=True)\n",
        "        self.stm.send('scu_updateCloud')\n",
        "        print(self.stm.driver.print_status())\n",
        "\n",
        "        self.stm.send('cloud_sendCarData')\n",
        "        #if recievedNewDataFromCloud == true:\n",
        "        #    cloud_recievedData\n",
        "\n",
        "    def on_updateMobileApp(self):\n",
        "        clear_output(wait=True)\n",
        "        self.stm.send('scu_updateMobileApp')\n",
        "        print(self.stm.driver.print_status())\n",
        "\n",
        "        self.stm.send('mobileApp_nofityChargePlan')\n",
        "\n",
        "    def on_noCloudCommunication(self):\n",
        "        clear_output(wait=True)\n",
        "        self.stm.send('scu_noCloudCommunication')\n",
        "        print(self.stm.driver.print_status())\n",
        "\n",
        "        self.stm.send('mobileApp_nofityNoCloud')\n",
        "\n",
        "    # car connected 2:\n",
        "    def on_chargeCar(self):\n",
        "        clear_output(wait=True)\n",
        "        self.stm.send('scu_chargeCar')\n",
        "        print(self.stm.driver.print_status())\n",
        "\n",
        "        self.stm.send('deliverChargeAccordingToPlan')\n",
        "\n",
        "    def on_abortCharging(self):\n",
        "        clear_output(wait=True)\n",
        "        self.stm.send('scu_abortCharging')\n",
        "        print(self.stm.driver.print_status())\n",
        "\n",
        "        self.stm.send('cancelCharging')\n",
        "        #if charging_cancelled == true:\n",
        "        #    chargingAborted\n",
        "\n",
        "    # mobile app request:\n",
        "    def on_getCloudData(self):\n",
        "        clear_output(wait=True)\n",
        "        self.stm.send('scu_getCloudData')\n",
        "        print(self.stm.driver.print_status())\n",
        "\n",
        "    def on_getCarData(self):\n",
        "        clear_output(wait=True)\n",
        "        self.stm.send('scu_getCarData')\n",
        "        print(self.stm.driver.print_status())\n",
        "\n",
        "    def on_suggestChargingPlan(self):\n",
        "        clear_output(wait=True)\n",
        "        self.stm.send('scu_suggestChargingPlan')\n",
        "        print(self.stm.driver.print_status())\n",
        "\n",
        "    def on_updateChargingPlan(self):\n",
        "        clear_output(wait=True)\n",
        "        self.stm.send('scu_updateChargingPlan')\n",
        "        print(self.stm.driver.print_status())"
      ],
      "metadata": {
        "id": "21m4jXKxtt8h"
      },
      "execution_count": 3,
      "outputs": []
    },
    {
      "cell_type": "markdown",
      "source": [
        "Initialize state machine:"
      ],
      "metadata": {
        "id": "qOZmIBEOv5Dl"
      }
    },
    {
      "cell_type": "code",
      "source": [
        "scu = scu_class()"
      ],
      "metadata": {
        "id": "XE-xjFUnv61P"
      },
      "execution_count": 4,
      "outputs": []
    },
    {
      "cell_type": "markdown",
      "source": [
        "Declare transition states:"
      ],
      "metadata": {
        "id": "g9JeM9M7wKY1"
      }
    },
    {
      "cell_type": "code",
      "source": [
        "# initial transition\n",
        "t0 = {\n",
        "    \"source\": \"initial\",\n",
        "    \"target\": \"s_idle\",\n",
        "    \"effect\": \"on_init\",\n",
        "}\n",
        "\n",
        "# transition s_init ----> s_idle\n",
        "t1 = {\n",
        "    \"source\": \"s_init\",\n",
        "    \"target\": \"s_idle\",\n",
        "    \"effect\": \"on_idle\",\n",
        "}\n",
        "\n",
        "# car connected:\n",
        "# transition s_idle ----> s_getCarData\n",
        "t2 = {\n",
        "    \"trigger\": \"car_connected\",\n",
        "    \"source\": \"s_idle\",\n",
        "    \"target\": \"s_getCarData\",\n",
        "    \"effect\": \"on_getCarData\",\n",
        "}\n",
        "\n",
        "# transition s_getCarData ----> s_updateCloud\n",
        "t3 = {\n",
        "    \"trigger\": \"chargerFromCar_recievedData\",\n",
        "    \"source\": \"s_getCarData\",\n",
        "    \"target\": \"s_updateCloud\",\n",
        "    \"effect\": \"on_updateCloud; start_timer('t', 50000)\",\n",
        "}\n",
        "\n",
        "# transition s_updateCloud ----> s_noCloudCommunication\n",
        "t4 = {\n",
        "    \"trigger\": \"t\",\n",
        "    \"source\": \"s_updateCloud\",\n",
        "    \"target\": \"s_noCloudCommunication\",\n",
        "    \"effect\": \"on_noCloudCommunication\",\n",
        "}\n",
        "\n",
        "# transition s_noCloudCommunication ----> s_idle\n",
        "t5 = {\n",
        "    \"source\": \"s_noCloudCommunication\",\n",
        "    \"target\": \"s_idle\",\n",
        "    \"effect\": \"on_idle\",\n",
        "}\n",
        "\n",
        "# transition s_updateCloud ----> s_updateMobileApp\n",
        "t6 = {\n",
        "    \"trigger\": \"cloud_recievedData\",\n",
        "    \"source\": \"s_updateCloud\",\n",
        "    \"target\": \"s_updateMobileApp\",\n",
        "    \"effect\": \"on_updateMobileApp\",\n",
        "}\n",
        "\n",
        "# transition s_updateMobileApp ----> s_idle\n",
        "t7 = {\n",
        "    \"source\": \"s_updateMobileApp\",\n",
        "    \"target\": \"s_idle\",\n",
        "    \"effect\": \"on_idle\",\n",
        "}\n",
        "\n",
        "# car connected 2:\n",
        "t8 = {\n",
        "    \"trigger\": \"car_connected\",\n",
        "    \"source\": \"s_idle\",\n",
        "    \"target\": \"s_chargeCar\",\n",
        "    \"effect\": \"on_chargeCar\",\n",
        "}\n",
        "\n",
        "t9 = {\n",
        "    \"trigger\": \"chargingComplete\",\n",
        "    \"source\": \"s_chargeCar\",\n",
        "    \"target\": \"s_idle\",\n",
        "    \"effect\": \"on_idle\",\n",
        "}\n",
        "\n",
        "t10 = {\n",
        "    \"trigger\": \"rescheduleCharging\",\n",
        "    \"source\": \"s_chargeCar\",\n",
        "    \"target\": \"s_abortCharging\",\n",
        "    \"effect\": \"on_abortCharging\",\n",
        "}\n",
        "\n",
        "t11 = {\n",
        "    \"trigger\": \"chargingAborted\",\n",
        "    \"source\": \"s_abortCharging\",\n",
        "    \"target\": \"s_idle\",\n",
        "    \"effect\": \"on_idle\",\n",
        "}\n",
        "\n",
        "# mobile app request:\n",
        "t12 = {\n",
        "    \"trigger\": \"mobileApp_requestFrom\",\n",
        "    \"source\": \"s_idle\",\n",
        "    \"target\": \"s_getCloudData\",\n",
        "    \"effect\": \"on_getCloudData\",\n",
        "}"
      ],
      "metadata": {
        "id": "8qXcGsu4wMMn"
      },
      "execution_count": null,
      "outputs": []
    },
    {
      "cell_type": "markdown",
      "source": [
        "Define machine"
      ],
      "metadata": {
        "id": "C9vtRQMFymnc"
      }
    },
    {
      "cell_type": "code",
      "source": [
        "scu_machine = Machine( name=\"SCU\", transitions=[t0, t1, t2, t3, t4, t5, t6, t7, t8, t9, t10, t11, t12], obj=scu)"
      ],
      "metadata": {
        "id": "caS_-RifyojP"
      },
      "execution_count": null,
      "outputs": []
    },
    {
      "cell_type": "markdown",
      "source": [
        "Videre:"
      ],
      "metadata": {
        "id": "OIHrtzHEzHwD"
      }
    },
    {
      "cell_type": "code",
      "source": [],
      "metadata": {
        "id": "MDj2zPSlzJLM"
      },
      "execution_count": null,
      "outputs": []
    },
    {
      "cell_type": "markdown",
      "source": [
        "MQTT Setup:"
      ],
      "metadata": {
        "id": "2X3u9zDCzE4-"
      }
    },
    {
      "cell_type": "code",
      "source": [
        "import paho.mqtt.client as mqtt\n"
      ],
      "metadata": {
        "id": "PoDsymVCzG-z"
      },
      "execution_count": null,
      "outputs": []
    },
    {
      "cell_type": "markdown",
      "source": [],
      "metadata": {
        "id": "eWQ2f3lxtcBO"
      }
    }
  ]
}