{
 "cells": [
  {
   "cell_type": "code",
   "execution_count": 7,
   "metadata": {},
   "outputs": [],
   "source": [
    "from stmpy import Machine, Driver\n",
    "\n",
    "import ipywidgets as widgets\n",
    "from IPython.display import display\n",
    "\n",
    "class Charger:\n",
    "    \n",
    "    def on_buttonConnect_press(self, b):\n",
    "        self.stm.send('car_connected') # <---- here we send a signal\n",
    "    \n",
    "    def on_buttonCharge_press(self, b):\n",
    "        self.stm.send('request_charging') # <---- here we send a signal\n",
    "    \n",
    "    def on_buttonDisconnect_press(self, b):\n",
    "        self.stm.send('car_disconnected') # <---- here we send a signal\n",
    "\n",
    "    def on_buttonChargingFinished_press(self, b):\n",
    "        self.stm.send('charging_finished') # <---- here we send a signal\n",
    "    \n",
    "    def on_buttonChargingAborted_press(self, b):\n",
    "        self.stm.send('charging_aborted') # <---- here we send a signal\n",
    "\n",
    "    def update_scu(self):\n",
    "        print(\"Updating SCU\")\n",
    "    \n",
    "    def charge_car(self):\n",
    "        print(\"Charging car\")\n",
    "            \n",
    "    def __init__(self):\n",
    "        # load images and store them\n",
    "        self.buttonConnect = widgets.Button(description=\"Connect car\")\n",
    "        self.buttonConnect.on_click(self.on_buttonConnect_press)\n",
    "        \n",
    "        self.buttonCharge = widgets.Button(description=\"Charge\")\n",
    "        self.buttonCharge.on_click(self.on_buttonCharge_press)\n",
    "\n",
    "        self.buttonDisconnect = widgets.Button(description=\"Disconnect car\")\n",
    "        self.buttonDisconnect.on_click(self.on_buttonDisconnect_press)\n",
    "\n",
    "        self.buttonChargingFinished = widgets.Button(description=\"Finish charging\")\n",
    "        self.buttonChargingFinished.on_click(self.on_buttonChargingFinished_press)\n",
    "\n",
    "        self.buttonChargingAborted = widgets.Button(description=\"Abort charging\")\n",
    "        self.buttonChargingAborted.on_click(self.on_buttonChargingAborted_press)\n",
    "\n",
    "        display(self.buttonConnect, self.buttonCharge, self.buttonDisconnect, self.buttonChargingFinished, self.buttonChargingAborted)"
   ]
  },
  {
   "cell_type": "code",
   "execution_count": 8,
   "metadata": {},
   "outputs": [
    {
     "data": {
      "application/vnd.jupyter.widget-view+json": {
       "model_id": "c0ec113187f14dbd95a53876147f3e25",
       "version_major": 2,
       "version_minor": 0
      },
      "text/plain": [
       "Button(description='Connect car', style=ButtonStyle())"
      ]
     },
     "metadata": {},
     "output_type": "display_data"
    },
    {
     "data": {
      "application/vnd.jupyter.widget-view+json": {
       "model_id": "605bc20d94cf45b9ae7ac92eb9e2b564",
       "version_major": 2,
       "version_minor": 0
      },
      "text/plain": [
       "Button(description='Charge', style=ButtonStyle())"
      ]
     },
     "metadata": {},
     "output_type": "display_data"
    },
    {
     "data": {
      "application/vnd.jupyter.widget-view+json": {
       "model_id": "e8008c7928a44cc09fc89ebdbde58112",
       "version_major": 2,
       "version_minor": 0
      },
      "text/plain": [
       "Button(description='Disconnect car', style=ButtonStyle())"
      ]
     },
     "metadata": {},
     "output_type": "display_data"
    },
    {
     "data": {
      "application/vnd.jupyter.widget-view+json": {
       "model_id": "64d527847e0940a2875b76c9d5d4e174",
       "version_major": 2,
       "version_minor": 0
      },
      "text/plain": [
       "Button(description='Finish charging', style=ButtonStyle())"
      ]
     },
     "metadata": {},
     "output_type": "display_data"
    },
    {
     "data": {
      "application/vnd.jupyter.widget-view+json": {
       "model_id": "8548957079ce4e3f93a79258dcf0636a",
       "version_major": 2,
       "version_minor": 0
      },
      "text/plain": [
       "Button(description='Abort charging', style=ButtonStyle())"
      ]
     },
     "metadata": {},
     "output_type": "display_data"
    }
   ],
   "source": [
    "charger = Charger()\n",
    "\n",
    "t0_initial = {'source': 'initial',\n",
    "      'target': 'idle'}\n",
    "\n",
    "t1_car_connected = {'trigger': 'car_connected',\n",
    "        'source': 'idle',\n",
    "        'target': 'connected'\n",
    "}\n",
    "\n",
    "t2_request_charging = {'trigger': 'request_charging',\n",
    "        'source': 'connected',\n",
    "        'target': 'charging'\n",
    "}\n",
    "t3_car_disconnected = {'trigger': 'car_disconnected',\n",
    "        'source': 'connected',\n",
    "        'target': 'idle'\n",
    "}\n",
    "t4_charging_finished = {'trigger': 'charging_finished',\n",
    "        'source': 'charging',\n",
    "        'target': 'connected'\n",
    "}\n",
    "t5_charging_aborted = {'trigger': 'charging_aborted',\n",
    "        'source': 'charging',\n",
    "        'target': 'connected'\n",
    "}\n",
    "\n",
    "idle = {'name': 'idle'}\n",
    "\n",
    "connected = {'name': 'connected',\n",
    "             'entry': 'update_scu'}\n",
    "\n",
    "charging = {'name': 'charging',\n",
    "            'entry': 'charge_car'}\n",
    "\n",
    "machine = Machine(name='charger', transitions=[t0_initial, t1_car_connected, t2_request_charging, t3_car_disconnected, t4_charging_finished, t5_charging_aborted],\n",
    "                                states=[idle, connected, charging], obj=charger)\n",
    "\n",
    "charger.stm = machine\n",
    "driver = Driver()\n",
    "driver.add_machine(machine)\n",
    "driver.start()"
   ]
  }
 ],
 "metadata": {
  "kernelspec": {
   "display_name": "Python 3",
   "language": "python",
   "name": "python3"
  },
  "language_info": {
   "codemirror_mode": {
    "name": "ipython",
    "version": 3
   },
   "file_extension": ".py",
   "mimetype": "text/x-python",
   "name": "python",
   "nbconvert_exporter": "python",
   "pygments_lexer": "ipython3",
   "version": "3.9.6"
  }
 },
 "nbformat": 4,
 "nbformat_minor": 2
}
