{
 "cells": [
  {
   "cell_type": "code",
   "execution_count": 1,
   "metadata": {},
   "outputs": [],
   "source": [
    "from threading import Thread\n",
    "\n",
    "import paho.mqtt.client as mqtt\n",
    "\n",
    "\n",
    "class MQTT_Client_1:\n",
    "    def __init__(self):\n",
    "        self.client = mqtt.Client(callback_api_version=mqtt.CallbackAPIVersion.VERSION1)\n",
    "        self.client.on_connect = self.on_connect\n",
    "        self.client.on_message = self.on_message\n",
    "\n",
    "    def on_connect(self, rc):\n",
    "        print(\"on_connect(): {}\".format(mqtt.connack_string(rc)))\n",
    "\n",
    "    def on_message(self, msg):\n",
    "        print(\"on_message(): topic: {}\".format(msg.topic))\n",
    "        self.stm_driver.send(\"message\", \"tick_tock\")\n",
    "\n",
    "    def start(self, broker, port):\n",
    "\n",
    "        print(\"Connecting to {}:{}\".format(broker, port))\n",
    "        self.client.connect(broker, port)\n",
    "\n",
    "        self.client.subscribe(\"eirikh_from_scu\")\n",
    "\n",
    "        try:\n",
    "            # line below should not have the () after the function!\n",
    "            thread = Thread(target=self.client.loop_forever)\n",
    "            thread.start()\n",
    "        except KeyboardInterrupt:\n",
    "            print(\"Interrupted\")\n",
    "            self.client.disconnect()"
   ]
  },
  {
   "cell_type": "code",
   "execution_count": 2,
   "metadata": {},
   "outputs": [
    {
     "name": "stderr",
     "output_type": "stream",
     "text": [
      "/var/folders/zm/t0k9nnts7jbfkwkm5lg1c_5r0000gn/T/ipykernel_25570/672193713.py:8: DeprecationWarning: Callback API version 1 is deprecated, update to latest version\n",
      "  self.client = mqtt.Client(callback_api_version=mqtt.CallbackAPIVersion.VERSION1)\n"
     ]
    }
   ],
   "source": [
    "from stmpy import Machine, Driver\n",
    "\n",
    "import ipywidgets as widgets\n",
    "from IPython.display import display\n",
    "\n",
    "def on_connect(rc):\n",
    "    print(\"Connected with result code \"+str(rc))\n",
    "\n",
    "# The callback for when a PUBLISH message is received from the server.\n",
    "def on_message(msg):\n",
    "    print(msg.topic+\" \"+str(msg.payload))\n",
    "\n",
    "myclient = MQTT_Client_1()\n",
    "myclient.on_connect = on_connect\n",
    "myclient.on_message = on_message\n",
    "\n",
    "broker, port = \"test.mosquitto.org\", 1883\n",
    "\n",
    "class Charger:\n",
    "    \n",
    "    def on_buttonConnect_press(self, b):\n",
    "        self.stm.send('car_connected') # <---- here we send a signal\n",
    "    \n",
    "    def on_buttonCharge_press(self, b):\n",
    "        self.stm.send('request_charging') # <---- here we send a signal\n",
    "    \n",
    "    def on_buttonDisconnect_press(self, b):\n",
    "        self.stm.send('car_disconnected') # <---- here we send a signal\n",
    "\n",
    "    def on_buttonChargingFinished_press(self, b):\n",
    "        self.stm.send('charging_finished') # <---- here we send a signal\n",
    "    \n",
    "    def on_buttonChargingAborted_press(self, b):\n",
    "        self.stm.send('charging_aborted') # <---- here we send a signal\n",
    "\n",
    "    def update_scu(self):\n",
    "        print(\"Updating SCU\")\n",
    "        self.mqtt_client.publish(\"eirikh\", \"Car connected\")\n",
    "    \n",
    "    def charge_car(self):\n",
    "        print(\"Charging car\")\n",
    "            \n",
    "    def __init__(self):\n",
    "        # load images and store them\n",
    "        self.buttonConnect = widgets.Button(description=\"Connect car\")\n",
    "        self.buttonConnect.on_click(self.on_buttonConnect_press)\n",
    "        \n",
    "        self.buttonCharge = widgets.Button(description=\"Charge\")\n",
    "        self.buttonCharge.on_click(self.on_buttonCharge_press)\n",
    "\n",
    "        self.buttonDisconnect = widgets.Button(description=\"Disconnect car\")\n",
    "        self.buttonDisconnect.on_click(self.on_buttonDisconnect_press)\n",
    "\n",
    "        self.buttonChargingFinished = widgets.Button(description=\"Finish charging\")\n",
    "        self.buttonChargingFinished.on_click(self.on_buttonChargingFinished_press)\n",
    "\n",
    "        self.buttonChargingAborted = widgets.Button(description=\"Abort charging\")\n",
    "        self.buttonChargingAborted.on_click(self.on_buttonChargingAborted_press)\n",
    "\n",
    "        display(self.buttonConnect, self.buttonCharge, self.buttonDisconnect, self.buttonChargingFinished, self.buttonChargingAborted)"
   ]
  },
  {
   "cell_type": "code",
   "execution_count": 3,
   "metadata": {},
   "outputs": [
    {
     "data": {
      "application/vnd.jupyter.widget-view+json": {
       "model_id": "c037322eb89c4d1bbac4c19373b786df",
       "version_major": 2,
       "version_minor": 0
      },
      "text/plain": [
       "Button(description='Connect car', style=ButtonStyle())"
      ]
     },
     "metadata": {},
     "output_type": "display_data"
    },
    {
     "data": {
      "application/vnd.jupyter.widget-view+json": {
       "model_id": "35a4bf05326248f88c7aaca548ef1b2d",
       "version_major": 2,
       "version_minor": 0
      },
      "text/plain": [
       "Button(description='Charge', style=ButtonStyle())"
      ]
     },
     "metadata": {},
     "output_type": "display_data"
    },
    {
     "data": {
      "application/vnd.jupyter.widget-view+json": {
       "model_id": "8b11ecb537e74952aaa09c24816fdf15",
       "version_major": 2,
       "version_minor": 0
      },
      "text/plain": [
       "Button(description='Disconnect car', style=ButtonStyle())"
      ]
     },
     "metadata": {},
     "output_type": "display_data"
    },
    {
     "data": {
      "application/vnd.jupyter.widget-view+json": {
       "model_id": "bb55046dc6a64d3c8a3714611bc99691",
       "version_major": 2,
       "version_minor": 0
      },
      "text/plain": [
       "Button(description='Finish charging', style=ButtonStyle())"
      ]
     },
     "metadata": {},
     "output_type": "display_data"
    },
    {
     "data": {
      "application/vnd.jupyter.widget-view+json": {
       "model_id": "4bbb6756d394436e95b9b1631b44b22b",
       "version_major": 2,
       "version_minor": 0
      },
      "text/plain": [
       "Button(description='Abort charging', style=ButtonStyle())"
      ]
     },
     "metadata": {},
     "output_type": "display_data"
    },
    {
     "name": "stdout",
     "output_type": "stream",
     "text": [
      "Connecting to test.mosquitto.org:1883\n"
     ]
    },
    {
     "name": "stderr",
     "output_type": "stream",
     "text": [
      "Exception in thread Thread-5:\n",
      "Traceback (most recent call last):\n",
      "  File \"/Library/Developer/CommandLineTools/Library/Frameworks/Python3.framework/Versions/3.9/lib/python3.9/threading.py\", line 973, in _bootstrap_inner\n",
      "    self.run()\n",
      "  File \"/Users/eirikhoem/Library/Python/3.9/lib/python/site-packages/ipykernel/ipkernel.py\", line 766, in run_closure\n",
      "    _threading_Thread_run(self)\n",
      "  File \"/Library/Developer/CommandLineTools/Library/Frameworks/Python3.framework/Versions/3.9/lib/python3.9/threading.py\", line 910, in run\n",
      "    self._target(*self._args, **self._kwargs)\n",
      "  File \"/Users/eirikhoem/Library/Python/3.9/lib/python/site-packages/paho/mqtt/client.py\", line 2291, in loop_forever\n",
      "    rc = self._loop(timeout)\n",
      "  File \"/Users/eirikhoem/Library/Python/3.9/lib/python/site-packages/paho/mqtt/client.py\", line 1680, in _loop\n",
      "    rc = self.loop_read()\n",
      "  File \"/Users/eirikhoem/Library/Python/3.9/lib/python/site-packages/paho/mqtt/client.py\", line 2094, in loop_read\n",
      "    rc = self._packet_read()\n",
      "  File \"/Users/eirikhoem/Library/Python/3.9/lib/python/site-packages/paho/mqtt/client.py\", line 3137, in _packet_read\n",
      "    rc = self._packet_handle()\n",
      "  File \"/Users/eirikhoem/Library/Python/3.9/lib/python/site-packages/paho/mqtt/client.py\", line 3809, in _packet_handle\n",
      "    return self._handle_connack()\n",
      "  File \"/Users/eirikhoem/Library/Python/3.9/lib/python/site-packages/paho/mqtt/client.py\", line 3917, in _handle_connack\n",
      "    on_connect(\n",
      "TypeError: on_connect() takes 2 positional arguments but 5 were given\n"
     ]
    }
   ],
   "source": [
    "charger = Charger()\n",
    "\n",
    "t0_initial = {'source': 'initial',\n",
    "      'target': 'idle'}\n",
    "\n",
    "t1_car_connected = {'trigger': 'car_connected',\n",
    "        'source': 'idle',\n",
    "        'target': 'connected'\n",
    "}\n",
    "\n",
    "t2_request_charging = {'trigger': 'request_charging',\n",
    "        'source': 'connected',\n",
    "        'target': 'charging'\n",
    "}\n",
    "t3_car_disconnected = {'trigger': 'car_disconnected',\n",
    "        'source': 'connected',\n",
    "        'target': 'idle'\n",
    "}\n",
    "t4_charging_finished = {'trigger': 'charging_finished',\n",
    "        'source': 'charging',\n",
    "        'target': 'connected'\n",
    "}\n",
    "t5_charging_aborted = {'trigger': 'charging_aborted',\n",
    "        'source': 'charging',\n",
    "        'target': 'connected'\n",
    "}\n",
    "\n",
    "idle = {'name': 'idle'}\n",
    "\n",
    "connected = {'name': 'connected',\n",
    "             'entry': 'update_scu'}\n",
    "\n",
    "charging = {'name': 'charging',\n",
    "            'entry': 'charge_car'}\n",
    "\n",
    "machine = Machine(name='charger', transitions=[t0_initial, t1_car_connected, t2_request_charging, t3_car_disconnected, t4_charging_finished, t5_charging_aborted],\n",
    "                                states=[idle, connected, charging], obj=charger)\n",
    "\n",
    "charger.stm = machine\n",
    "driver = Driver()\n",
    "driver.add_machine(machine)\n",
    "driver.start()\n",
    "charger.mqtt_client = myclient.client\n",
    "myclient.start(broker, port)"
   ]
  }
 ],
 "metadata": {
  "kernelspec": {
   "display_name": "Python 3",
   "language": "python",
   "name": "python3"
  },
  "language_info": {
   "codemirror_mode": {
    "name": "ipython",
    "version": 3
   },
   "file_extension": ".py",
   "mimetype": "text/x-python",
   "name": "python",
   "nbconvert_exporter": "python",
   "pygments_lexer": "ipython3",
   "version": "3.9.6"
  }
 },
 "nbformat": 4,
 "nbformat_minor": 2
}
