{
 "cells": [
  {
   "cell_type": "code",
   "execution_count": 5,
   "metadata": {},
   "outputs": [],
   "source": [
    "from stmpy import Machine, Driver\n",
    "\n",
    "import ipywidgets as widgets\n",
    "from IPython.display import display\n",
    "\n",
    "from threading import Thread\n",
    "import paho.mqtt.client as mqtt\n",
    "\n",
    "broker, port = \"test.mosquitto.org\", 1883\n",
    "\n",
    "class Charger:\n",
    "    # MQTT\n",
    "    def on_connect(self, client, userdata, flags, rc):\n",
    "        print(\"on_connect(): {}\".format(mqtt.connack_string(rc)))\n",
    "    \n",
    "    def on_message(self, client, userdata, msg):\n",
    "        print(\"on_message(): topic: {}\".format(msg.topic))\n",
    "        if msg.message == \"scu_finshed_charge\": # TODO: add scu messages, make sure msg data is correct\n",
    "            self.on_buttonChargingFinished_press\n",
    "\n",
    "    # Buttons & functions\n",
    "    def on_buttonConnect_press(self, b):\n",
    "        self.stm.send('car_connected') # <---- here we send a signal\n",
    "        self.client.publish(\"from_scu\", 8) # should be \"from_charger\", but this script subscribes to \"from_scu\". Good for testing.\n",
    "    \n",
    "    def on_buttonCharge_press(self, b):\n",
    "        self.stm.send('request_charging') # <---- here we send a signal\n",
    "    \n",
    "    def on_buttonDisconnect_press(self, b):\n",
    "        self.stm.send('car_disconnected') # <---- here we send a signal\n",
    "\n",
    "    def on_buttonChargingFinished_press(self, b):\n",
    "        self.stm.send('charging_finished') # <---- here we send a signal\n",
    "    \n",
    "    def on_buttonChargingAborted_press(self, b):\n",
    "        self.stm.send('charging_aborted') # <---- here we send a signal\n",
    "\n",
    "    def update_scu(self):\n",
    "        print(\"Updating SCU\")\n",
    "    \n",
    "    def charge_car(self):\n",
    "        print(\"Charging car\")\n",
    "            \n",
    "    def __init__(self):\n",
    "        # MQTT:\n",
    "        self.client = mqtt.Client(callback_api_version=mqtt.CallbackAPIVersion.VERSION1)\n",
    "\n",
    "        # load images and store them\n",
    "        self.buttonConnect = widgets.Button(description=\"Connect car\")\n",
    "        self.buttonConnect.on_click(self.on_buttonConnect_press)\n",
    "        \n",
    "        self.buttonCharge = widgets.Button(description=\"Charge\")\n",
    "        self.buttonCharge.on_click(self.on_buttonCharge_press)\n",
    "\n",
    "        self.buttonDisconnect = widgets.Button(description=\"Disconnect car\")\n",
    "        self.buttonDisconnect.on_click(self.on_buttonDisconnect_press)\n",
    "\n",
    "        self.buttonChargingFinished = widgets.Button(description=\"Finish charging\")\n",
    "        self.buttonChargingFinished.on_click(self.on_buttonChargingFinished_press)\n",
    "\n",
    "        self.buttonChargingAborted = widgets.Button(description=\"Abort charging\")\n",
    "        self.buttonChargingAborted.on_click(self.on_buttonChargingAborted_press)\n",
    "\n",
    "        display(self.buttonConnect, self.buttonCharge, self.buttonDisconnect, self.buttonChargingFinished, self.buttonChargingAborted)\n",
    "\n",
    "    def start(self):\n",
    "        self.client.on_connect = self.on_connect\n",
    "        self.client.on_message = self.on_message\n",
    "        print(\"Connecting to {}:{}\".format(broker, port))\n",
    "        self.client.connect(broker, port)\n",
    "\n",
    "        self.client.subscribe(\"from_scu\")"
   ]
  },
  {
   "cell_type": "code",
   "execution_count": 6,
   "metadata": {},
   "outputs": [
    {
     "name": "stderr",
     "output_type": "stream",
     "text": [
      "C:\\Users\\afwol\\AppData\\Local\\Temp/ipykernel_23204/2169089265.py:46: DeprecationWarning: Callback API version 1 is deprecated, update to latest version\n",
      "  self.client = mqtt.Client(callback_api_version=mqtt.CallbackAPIVersion.VERSION1)\n"
     ]
    },
    {
     "data": {
      "application/vnd.jupyter.widget-view+json": {
       "model_id": "f9a2ed202c874b9f84c45ec9366bb42a",
       "version_major": 2,
       "version_minor": 0
      },
      "text/plain": [
       "Button(description='Connect car', style=ButtonStyle())"
      ]
     },
     "metadata": {},
     "output_type": "display_data"
    },
    {
     "data": {
      "application/vnd.jupyter.widget-view+json": {
       "model_id": "f5c58be7316b497682689508e4f085b7",
       "version_major": 2,
       "version_minor": 0
      },
      "text/plain": [
       "Button(description='Charge', style=ButtonStyle())"
      ]
     },
     "metadata": {},
     "output_type": "display_data"
    },
    {
     "data": {
      "application/vnd.jupyter.widget-view+json": {
       "model_id": "d51830d3e76c4abe81a5f1b0bab4a44c",
       "version_major": 2,
       "version_minor": 0
      },
      "text/plain": [
       "Button(description='Disconnect car', style=ButtonStyle())"
      ]
     },
     "metadata": {},
     "output_type": "display_data"
    },
    {
     "data": {
      "application/vnd.jupyter.widget-view+json": {
       "model_id": "1c179af2ac6f49289fc2908885baf927",
       "version_major": 2,
       "version_minor": 0
      },
      "text/plain": [
       "Button(description='Finish charging', style=ButtonStyle())"
      ]
     },
     "metadata": {},
     "output_type": "display_data"
    },
    {
     "data": {
      "application/vnd.jupyter.widget-view+json": {
       "model_id": "6f28366d6b6e4c6daa49f6c2c73c39e6",
       "version_major": 2,
       "version_minor": 0
      },
      "text/plain": [
       "Button(description='Abort charging', style=ButtonStyle())"
      ]
     },
     "metadata": {},
     "output_type": "display_data"
    },
    {
     "name": "stdout",
     "output_type": "stream",
     "text": [
      "Updating SCU\n",
      "Charging car\n",
      "Updating SCU\n",
      "Charging car\n"
     ]
    },
    {
     "name": "stderr",
     "output_type": "stream",
     "text": [
      "Machine charger is in state charging and received event car_disconnected, but no transition with this event is declared!\n"
     ]
    },
    {
     "name": "stdout",
     "output_type": "stream",
     "text": [
      "Updating SCU\n"
     ]
    },
    {
     "name": "stderr",
     "output_type": "stream",
     "text": [
      "Machine charger is in state idle and received event car_disconnected, but no transition with this event is declared!\n"
     ]
    },
    {
     "name": "stdout",
     "output_type": "stream",
     "text": [
      "Updating SCU\n"
     ]
    }
   ],
   "source": [
    "charger = Charger()\n",
    "\n",
    "t0_initial = {'source': 'initial',\n",
    "      'target': 'idle'}\n",
    "\n",
    "t1_car_connected = {'trigger': 'car_connected',\n",
    "        'source': 'idle',\n",
    "        'target': 'connected'\n",
    "}\n",
    "\n",
    "t2_request_charging = {'trigger': 'request_charging',\n",
    "        'source': 'connected',\n",
    "        'target': 'charging'\n",
    "}\n",
    "t3_car_disconnected = {'trigger': 'car_disconnected',\n",
    "        'source': 'connected',\n",
    "        'target': 'idle'\n",
    "}\n",
    "t4_charging_finished = {'trigger': 'charging_finished',\n",
    "        'source': 'charging',\n",
    "        'target': 'connected'\n",
    "}\n",
    "t5_charging_aborted = {'trigger': 'charging_aborted',\n",
    "        'source': 'charging',\n",
    "        'target': 'connected'\n",
    "}\n",
    "\n",
    "idle = {'name': 'idle'}\n",
    "\n",
    "connected = {'name': 'connected',\n",
    "             'entry': 'update_scu'}\n",
    "\n",
    "charging = {'name': 'charging',\n",
    "            'entry': 'charge_car'}\n",
    "\n",
    "machine = Machine(name='charger', transitions=[t0_initial, t1_car_connected, t2_request_charging, t3_car_disconnected, t4_charging_finished, t5_charging_aborted],\n",
    "                                states=[idle, connected, charging], obj=charger)\n",
    "\n",
    "charger.stm = machine\n",
    "driver = Driver()\n",
    "driver.add_machine(machine)\n",
    "driver.start()"
   ]
  }
 ],
 "metadata": {
  "kernelspec": {
   "display_name": "Python 3",
   "language": "python",
   "name": "python3"
  },
  "language_info": {
   "codemirror_mode": {
    "name": "ipython",
    "version": 3
   },
   "file_extension": ".py",
   "mimetype": "text/x-python",
   "name": "python",
   "nbconvert_exporter": "python",
   "pygments_lexer": "ipython3",
   "version": "3.9.13"
  }
 },
 "nbformat": 4,
 "nbformat_minor": 2
}
